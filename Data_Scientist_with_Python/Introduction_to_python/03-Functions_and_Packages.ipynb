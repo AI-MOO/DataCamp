{
 "cells": [
  {
   "cell_type": "markdown",
   "metadata": {},
   "source": [
    "## `Section 03: Familiar functions` "
   ]
  },
  {
   "cell_type": "markdown",
   "metadata": {},
   "source": [
    "### 1- Familiar functions\n",
    "\n",
    "* Use `print()` in combination with `type()` to print out the type of var1.\n",
    "* Use `len()` to get the length of the list var1. Wrap it in a `print()` call to directly print it out.\n",
    "* Use `int()` to convert var2 to an integer. Store the output as out2."
   ]
  },
  {
   "cell_type": "code",
   "execution_count": null,
   "metadata": {},
   "outputs": [],
   "source": [
    "# Create variables var1 and var2\n",
    "var1 = [1, 2, 3, 4]\n",
    "var2 = True\n",
    "\n",
    "# Print out type of var1\n",
    "print(type(var1))\n",
    "\n",
    "# Print out length of var1\n",
    "print(len(var1))\n",
    "\n",
    "# Convert var2 to an integer: out2\n",
    "out2 = int(var2)"
   ]
  },
  {
   "cell_type": "markdown",
   "metadata": {},
   "source": [
    "### 2- Help !"
   ]
  },
  {
   "cell_type": "code",
   "execution_count": 3,
   "metadata": {},
   "outputs": [
    {
     "name": "stdout",
     "output_type": "stream",
     "text": [
      "Help on built-in function pow in module builtins:\n",
      "\n",
      "pow(x, y, z=None, /)\n",
      "    Equivalent to x**y (with two arguments) or x**y % z (with three arguments)\n",
      "    \n",
      "    Some types, such as ints, are able to use a more efficient algorithm when\n",
      "    invoked using the three argument form.\n",
      "\n"
     ]
    }
   ],
   "source": [
    "# power function\n",
    "help(pow)"
   ]
  },
  {
   "cell_type": "markdown",
   "metadata": {},
   "source": [
    "### 3- Multiple arguments\n",
    "\n",
    "* Use + to merge the contents of first and second into a new list: full.\n",
    "* Call `sorted()` on full and specify the reverse argument to be True. Save the sorted list as full_sorted.\n",
    "* Finish off by printing out full_sorted."
   ]
  },
  {
   "cell_type": "code",
   "execution_count": 4,
   "metadata": {},
   "outputs": [
    {
     "name": "stdout",
     "output_type": "stream",
     "text": [
      "[20.0, 18.0, 11.25, 10.75, 9.5]\n"
     ]
    }
   ],
   "source": [
    "# Create lists first and second\n",
    "first = [11.25, 18.0, 20.0]\n",
    "second = [10.75, 9.50]\n",
    "\n",
    "# Paste together first and second: full\n",
    "full = first + second\n",
    "\n",
    "# Sort full in descending order: full_sorted\n",
    "full_sorted = sorted(full, reverse=True)\n",
    " \n",
    "\n",
    "# Print out full_sorted\n",
    "print(full_sorted)"
   ]
  },
  {
   "cell_type": "markdown",
   "metadata": {},
   "source": [
    "### 4- String Methods\n",
    "\n",
    "\n",
    "Methods : are functions belongs to objects \n",
    "\n",
    "* Use the `upper()` method on place and store the result in place_up. Use the syntax for calling methods that you learned in the previous video.\n",
    "* Print out place and place_up. Did both change?\n",
    "* Print out the number of o's on the variable place by calling `count()` on place and passing the letter 'o' as an input to the method. We're talking about the variable place, not the word \"place\"!"
   ]
  },
  {
   "cell_type": "code",
   "execution_count": 6,
   "metadata": {},
   "outputs": [
    {
     "name": "stdout",
     "output_type": "stream",
     "text": [
      "poolhouse POOLHOUSE\n",
      "3\n"
     ]
    }
   ],
   "source": [
    "# string to experiment with: place\n",
    "place = \"poolhouse\"\n",
    "\n",
    "# Use upper() on place: place_up\n",
    "place_up = place.upper()\n",
    "\n",
    "# Print out place and place_up\n",
    "print(place, place_up)\n",
    "\n",
    "# Print out the number of o's in place\n",
    "print(place.count(\"o\"))"
   ]
  },
  {
   "cell_type": "markdown",
   "metadata": {},
   "source": [
    "### 5- List Methods\n",
    "\n",
    "* Use the `index()` method to get the index of the element in areas that is equal to `20.0`. Print out this index.\n",
    "* Call `count()` on areas to find out how many times `9.50` appears in the list. Again, simply print out this number.\n"
   ]
  },
  {
   "cell_type": "code",
   "execution_count": 7,
   "metadata": {},
   "outputs": [
    {
     "name": "stdout",
     "output_type": "stream",
     "text": [
      "2\n",
      "1\n"
     ]
    }
   ],
   "source": [
    "# Create list areas\n",
    "areas = [11.25, 18.0, 20.0, 10.75, 9.50]\n",
    "\n",
    "# Print out the index of the element 20.0\n",
    "print(areas.index(20.0))\n",
    "\n",
    "# Print out how often 9.50 appears in areas\n",
    "print(areas.count(9.50))"
   ]
  },
  {
   "cell_type": "markdown",
   "metadata": {},
   "source": [
    "### 6- List Methods (2)\n",
    "* Use `append()` twice to add the size of the poolhouse and the garage again: `24.5` and `15.45`, respectively. Make sure to add them in this order.\n",
    "* Print out areas\n",
    "* Use the `reverse()` method to reverse the order of the elements in areas.\n",
    "* Print out areas once more."
   ]
  },
  {
   "cell_type": "code",
   "execution_count": null,
   "metadata": {},
   "outputs": [],
   "source": [
    "# Create list areas\n",
    "areas = [11.25, 18.0, 20.0, 10.75, 9.50]\n",
    "\n",
    "# Use append twice to add poolhouse and garage size\n",
    "areas.append(24.5)\n",
    "areas.append(15.45)\n",
    "\n",
    "# Print out areas\n",
    "print(areas)\n",
    "\n",
    "# Reverse the orders of the elements in areas\n",
    "areas.reverse()\n",
    "\n",
    "# Print out areas\n",
    "print(areas)"
   ]
  }
 ],
 "metadata": {
  "interpreter": {
   "hash": "375c74fd8c11b85bdfdf0d0a51867cc40572443e91947231b688f7b7116ba890"
  },
  "kernelspec": {
   "display_name": "Python 3.6.8 64-bit",
   "language": "python",
   "name": "python3"
  },
  "language_info": {
   "codemirror_mode": {
    "name": "ipython",
    "version": 3
   },
   "file_extension": ".py",
   "mimetype": "text/x-python",
   "name": "python",
   "nbconvert_exporter": "python",
   "pygments_lexer": "ipython3",
   "version": "3.6.8"
  },
  "orig_nbformat": 4
 },
 "nbformat": 4,
 "nbformat_minor": 2
}
