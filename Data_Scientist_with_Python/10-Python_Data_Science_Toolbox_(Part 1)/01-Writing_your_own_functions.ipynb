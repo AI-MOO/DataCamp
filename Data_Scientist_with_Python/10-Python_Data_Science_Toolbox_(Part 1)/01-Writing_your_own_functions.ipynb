{
 "cells": [
  {
   "cell_type": "markdown",
   "metadata": {},
   "source": [
    "## `Section 01: Writing your own functions`\n"
   ]
  },
  {
   "cell_type": "markdown",
   "metadata": {},
   "source": [
    "### 01-Write a simple function\n",
    "\n",
    "* Complete the function header by adding the appropriate function name, `shout`.\n",
    "* In the function body, concatenate the string, `'congratulations'` with another string, `'!!!'`. Assign the result to `shout_word`.\n",
    "* Print the value of `shout_word`.\n",
    "* Call the `shout` function."
   ]
  },
  {
   "cell_type": "code",
   "execution_count": 1,
   "metadata": {},
   "outputs": [
    {
     "name": "stdout",
     "output_type": "stream",
     "text": [
      "congratulations!!!\n"
     ]
    }
   ],
   "source": [
    "# Define the function shout\n",
    "def shout():\n",
    "    \"\"\"Print a string with three exclamation marks\"\"\"\n",
    "    # Concatenate the strings: shout_word\n",
    "    shout_word = 'congratulations' + '!!!'\n",
    "\n",
    "    # Print shout_word\n",
    "    print(shout_word)\n",
    "\n",
    "# Call shout\n",
    "shout()"
   ]
  },
  {
   "cell_type": "markdown",
   "metadata": {},
   "source": [
    "### 02-Single-parameter functions\n",
    "\n",
    "* Complete the function header by adding the parameter name, `word`.\n",
    "* Assign the result of concatenating `word` with `'!!!'` to `shout_word`.\n",
    "* Print the value of `shout_word`.\n",
    "* Call the `shout()` function, passing to it the string, `'congratulations'`."
   ]
  },
  {
   "cell_type": "code",
   "execution_count": 2,
   "metadata": {},
   "outputs": [
    {
     "name": "stdout",
     "output_type": "stream",
     "text": [
      "congratulations!!!\n"
     ]
    }
   ],
   "source": [
    "# Define shout with the parameter, word\n",
    "def shout(word):\n",
    "    \"\"\"Print a string with three exclamation marks\"\"\"\n",
    "    # Concatenate the strings: shout_word\n",
    "    shout_word = word + '!!!'\n",
    "\n",
    "    # Print shout_word\n",
    "    print(shout_word)\n",
    "\n",
    "# Call shout with the string 'congratulations'\n",
    "shout('congratulations')"
   ]
  },
  {
   "cell_type": "markdown",
   "metadata": {},
   "source": [
    "### 03-Functions that return single values\n",
    "\n",
    "* In the function body, concatenate the string in `word` with `'!!!'` and assign to `shout_word`.\n",
    "* Replace the `print()` statement with the appropriate `return` statement.\n",
    "* Call the `shout()` function, passing to it the string, `'congratulations'`, and assigning the call to the variable, `yell`.\n",
    "* To check if `yell` contains the value returned by `shout()`, print the value of `yell`."
   ]
  },
  {
   "cell_type": "code",
   "execution_count": 3,
   "metadata": {},
   "outputs": [
    {
     "name": "stdout",
     "output_type": "stream",
     "text": [
      "congratulations!!!\n"
     ]
    }
   ],
   "source": [
    "# Define shout with the parameter, word\n",
    "def shout(word):\n",
    "    \"\"\"Return a string with three exclamation marks\"\"\"\n",
    "    # Concatenate the strings: shout_word\n",
    "    shout_word = word + '!!!'\n",
    "\n",
    "    # Replace print with return\n",
    "    return shout_word\n",
    "\n",
    "# Pass 'congratulations' to shout: yell\n",
    "yell = shout('congratulations')\n",
    "\n",
    "# Print yell\n",
    "print(yell)"
   ]
  },
  {
   "cell_type": "markdown",
   "metadata": {},
   "source": [
    "### 04-Functions with multiple parameters\n",
    "* Modify the function header such that it accepts two parameters, `word1` and `word2`, in that order.\n",
    "* Concatenate each of `word1` and `word2` with `'!!!'` and assign to `shout1` and `shout2`, respectively.\n",
    "* Concatenate `shout1` and `shout2` together, in that order, and assign to `new_shout`.\n",
    "* Pass the strings `'congratulations'` and `'you'`, in that order, to a call to `shout()`. Assign the return value to `yell`."
   ]
  },
  {
   "cell_type": "code",
   "execution_count": 4,
   "metadata": {},
   "outputs": [
    {
     "name": "stdout",
     "output_type": "stream",
     "text": [
      "congratulations!!!you!!!\n"
     ]
    }
   ],
   "source": [
    "# Define shout with parameters word1 and word2\n",
    "def shout(word1, word2):\n",
    "    \"\"\"Concatenate strings with three exclamation marks\"\"\"\n",
    "    # Concatenate word1 with '!!!': shout1\n",
    "    shout1 = word1 + '!!!'\n",
    "    \n",
    "    # Concatenate word2 with '!!!': shout2\n",
    "    shout2 = word2 + '!!!'\n",
    "    \n",
    "    # Concatenate shout1 with shout2: new_shout\n",
    "    new_shout = shout1 + shout2\n",
    "\n",
    "    # Return new_shout\n",
    "    return new_shout\n",
    "\n",
    "# Pass 'congratulations' and 'you' to shout(): yell\n",
    "yell = shout('congratulations', 'you')\n",
    "\n",
    "# Print yell\n",
    "print(yell)"
   ]
  },
  {
   "cell_type": "markdown",
   "metadata": {},
   "source": [
    "### 05-A brief introduction to tuples\n",
    "* Unpack `nums` to the variables `num1`, `num2`, and `num3`.\n",
    "* Construct a new tuple, `even_nums` composed of the same elements in `nums`, but with the 1st element replaced with the value, 2.\n"
   ]
  },
  {
   "cell_type": "code",
   "execution_count": 6,
   "metadata": {},
   "outputs": [
    {
     "data": {
      "text/plain": [
       "(2, 4, 6)"
      ]
     },
     "execution_count": 6,
     "metadata": {},
     "output_type": "execute_result"
    }
   ],
   "source": [
    "nums = (3, 4, 6)\n",
    "\n",
    "# Unpack nums into num1, num2, and num3\n",
    "num1, num2, num3 = nums\n",
    "\n",
    "# Construct even_nums\n",
    "even_nums = (2, nums[1], nums[2])\n",
    "even_nums"
   ]
  },
  {
   "cell_type": "markdown",
   "metadata": {},
   "source": [
    "### 06-Functions that return multiple values\n",
    "\n",
    "* Modify the function header such that the function name is now `shout_all`, and it accepts two parameters, `word1` and `word2`, in that order.\n",
    "* Concatenate the string `'!!!'` to each of `word1` and `word2` and assign to `shout1` and `shout2`, respectively.\n",
    "* Construct a tuple `shout_words`, composed of `shout1` and `shout2`.\n",
    "* Call `shout_all()` with the strings 'congratulations' and 'you' and assign the result to yell1 and yell2 (remember, shout_all() returns 2 variables!)."
   ]
  },
  {
   "cell_type": "code",
   "execution_count": 7,
   "metadata": {},
   "outputs": [
    {
     "name": "stdout",
     "output_type": "stream",
     "text": [
      "congratulations!!!\n",
      "you!!!\n"
     ]
    }
   ],
   "source": [
    "# Define shout_all with parameters word1 and word2\n",
    "def shout_all(word1, word2):\n",
    "    \n",
    "    # Concatenate word1 with '!!!': shout1\n",
    "    shout1 = word1 + '!!!'\n",
    "    \n",
    "    # Concatenate word2 with '!!!': shout2\n",
    "    shout2 = word2 + '!!!'\n",
    "    \n",
    "    # Construct a tuple with shout1 and shout2: shout_words\n",
    "    shout_words = (shout1, shout2)\n",
    "\n",
    "    # Return shout_words\n",
    "    return shout_words\n",
    "\n",
    "# Pass 'congratulations' and 'you' to shout_all(): yell1, yell2\n",
    "yell1, yell2 = shout_all('congratulations', 'you')\n",
    "\n",
    "# Print yell1 and yell2\n",
    "print(yell1)\n",
    "print(yell2)"
   ]
  },
  {
   "cell_type": "markdown",
   "metadata": {},
   "source": [
    "### 07-Bringing it all together (1)\n",
    "\n",
    "* Import the pandas package with the alias `pd`.\n",
    "* Import the file `'tweets.csv'` using the pandas function `read_csv()`. Assign the resulting DataFrame to `df`.\n",
    "* Complete the `for` loop by iterating over `col`, the `'lang'` column in the DataFrame `df`.\n",
    "* Complete the bodies of the `if-else` statements in the for loop: if the key is in the dictionary `langs_count`, add `1` to the value corresponding to this key in the dictionary, else add the key to `langs_count` and set the corresponding value to `1`. Use the loop variable `entry` in your code."
   ]
  },
  {
   "cell_type": "code",
   "execution_count": 17,
   "metadata": {},
   "outputs": [
    {
     "name": "stdout",
     "output_type": "stream",
     "text": [
      "{'en': 97, 'et': 1, 'und': 2}\n"
     ]
    }
   ],
   "source": [
    "# Import pandas\n",
    "import pandas as pd\n",
    "\n",
    "# Import Twitter data as DataFrame: df\n",
    "df = pd.read_csv(\"datasets/tweets.csv\")\n",
    "\n",
    "# Initialize an empty dictionary: langs_count\n",
    "langs_count = {}\n",
    "\n",
    "# Extract column from DataFrame: col\n",
    "col = df['lang']\n",
    "\n",
    "# Iterate over lang column in DataFrame\n",
    "for entry in col:\n",
    "\n",
    "    # If the language is in langs_count, add 1 \n",
    "    if entry in langs_count.keys():\n",
    "        langs_count[entry] += 1\n",
    "    # Else add the language to langs_count, set the value to 1\n",
    "    else:\n",
    "        langs_count[entry] = 1\n",
    "\n",
    "# Print the populated dictionary\n",
    "print(langs_count)"
   ]
  },
  {
   "cell_type": "markdown",
   "metadata": {},
   "source": [
    "### 08-Bringing it all together (2)\n",
    "\n",
    "* Define the function `count_entries()`, which has two parameters. The first parameter is `df` for the DataFrame and the second is `col_name` for the column name.\n",
    "* Complete the bodies of the `if-else` statements in the `for` loop: if the key is in the dictionary `langs_count`, add `1` to its current value, else add the key to `langs_count` and set its value to 1. Use the loop variable `entry` in your code.\n",
    "* Return the `langs_count` dictionary from inside the `count_entries()` function.\n",
    "* Call the `count_entries()` function by passing to it `tweets_df` and the name of the column, `'lang'`. Assign the result of the call to the variable `result`.\n"
   ]
  },
  {
   "cell_type": "code",
   "execution_count": 18,
   "metadata": {},
   "outputs": [
    {
     "name": "stdout",
     "output_type": "stream",
     "text": [
      "{'en': 97, 'et': 1, 'und': 2}\n"
     ]
    }
   ],
   "source": [
    "tweets_df = df.copy()\n",
    "\n",
    "# Define count_entries()\n",
    "def count_entries(df, col_name):\n",
    "    \"\"\"Return a dictionary with counts of \n",
    "    occurrences as value for each key.\"\"\"\n",
    "\n",
    "    # Initialize an empty dictionary: langs_count\n",
    "    langs_count = {}\n",
    "    \n",
    "    # Extract column from DataFrame: col\n",
    "    col = df[col_name]\n",
    "    \n",
    "    # Iterate over lang column in DataFrame\n",
    "    for entry in col:\n",
    "\n",
    "        # If the language is in langs_count, add 1\n",
    "        if entry in langs_count.keys():\n",
    "            langs_count[entry] +=1\n",
    "        # Else add the language to langs_count, set the value to 1\n",
    "        else:\n",
    "            langs_count[entry] = 1\n",
    "\n",
    "    # Return the langs_count dictionary\n",
    "    return langs_count\n",
    "\n",
    "# Call count_entries(): result\n",
    "result = count_entries(tweets_df, 'lang')\n",
    "\n",
    "# Print the result\n",
    "print(result)"
   ]
  },
  {
   "cell_type": "markdown",
   "metadata": {},
   "source": [
    "==================================\n",
    "### `The End`  \n",
    "=================================="
   ]
  }
 ],
 "metadata": {
  "interpreter": {
   "hash": "375c74fd8c11b85bdfdf0d0a51867cc40572443e91947231b688f7b7116ba890"
  },
  "kernelspec": {
   "display_name": "Python 3.6.8 64-bit",
   "language": "python",
   "name": "python3"
  },
  "language_info": {
   "codemirror_mode": {
    "name": "ipython",
    "version": 3
   },
   "file_extension": ".py",
   "mimetype": "text/x-python",
   "name": "python",
   "nbconvert_exporter": "python",
   "pygments_lexer": "ipython3",
   "version": "3.6.8"
  },
  "orig_nbformat": 4
 },
 "nbformat": 4,
 "nbformat_minor": 2
}
