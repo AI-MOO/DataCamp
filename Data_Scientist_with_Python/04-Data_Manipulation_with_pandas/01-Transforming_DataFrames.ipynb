{
 "cells": [
  {
   "cell_type": "markdown",
   "metadata": {},
   "source": [
    "## `Section 01: Transforming DataFrames`"
   ]
  },
  {
   "cell_type": "markdown",
   "metadata": {},
   "source": [
    "### 01- Inspecting a DataFrame\n",
    "* Print the head of the homelessness DataFrame.\n",
    "* Print information about homelessness\n",
    "* Print the shape of homelessness\n",
    "* Print a description of homelessness\n",
    "\n"
   ]
  },
  {
   "cell_type": "code",
   "execution_count": 7,
   "metadata": {},
   "outputs": [
    {
     "data": {
      "text/html": [
       "<div>\n",
       "<style scoped>\n",
       "    .dataframe tbody tr th:only-of-type {\n",
       "        vertical-align: middle;\n",
       "    }\n",
       "\n",
       "    .dataframe tbody tr th {\n",
       "        vertical-align: top;\n",
       "    }\n",
       "\n",
       "    .dataframe thead th {\n",
       "        text-align: right;\n",
       "    }\n",
       "</style>\n",
       "<table border=\"1\" class=\"dataframe\">\n",
       "  <thead>\n",
       "    <tr style=\"text-align: right;\">\n",
       "      <th></th>\n",
       "      <th>region</th>\n",
       "      <th>state</th>\n",
       "      <th>individuals</th>\n",
       "      <th>family_members</th>\n",
       "      <th>state_pop</th>\n",
       "    </tr>\n",
       "  </thead>\n",
       "  <tbody>\n",
       "    <tr>\n",
       "      <th>0</th>\n",
       "      <td>EastSouthCentral</td>\n",
       "      <td>Alabama</td>\n",
       "      <td>2570</td>\n",
       "      <td>864</td>\n",
       "      <td>4887681</td>\n",
       "    </tr>\n",
       "    <tr>\n",
       "      <th>1</th>\n",
       "      <td>Pacific</td>\n",
       "      <td>Alaska</td>\n",
       "      <td>1434</td>\n",
       "      <td>582</td>\n",
       "      <td>735139</td>\n",
       "    </tr>\n",
       "    <tr>\n",
       "      <th>2</th>\n",
       "      <td>Mountain</td>\n",
       "      <td>Arizona</td>\n",
       "      <td>7259</td>\n",
       "      <td>2606</td>\n",
       "      <td>7158024</td>\n",
       "    </tr>\n",
       "    <tr>\n",
       "      <th>3</th>\n",
       "      <td>WestSouthCentral</td>\n",
       "      <td>Arkansas</td>\n",
       "      <td>2280</td>\n",
       "      <td>432</td>\n",
       "      <td>3009733</td>\n",
       "    </tr>\n",
       "    <tr>\n",
       "      <th>4</th>\n",
       "      <td>Pacific</td>\n",
       "      <td>California</td>\n",
       "      <td>109008</td>\n",
       "      <td>20964</td>\n",
       "      <td>39461588</td>\n",
       "    </tr>\n",
       "  </tbody>\n",
       "</table>\n",
       "</div>"
      ],
      "text/plain": [
       "             region       state  individuals  family_members  state_pop\n",
       "0  EastSouthCentral     Alabama         2570             864    4887681\n",
       "1           Pacific      Alaska         1434             582     735139\n",
       "2          Mountain     Arizona         7259            2606    7158024\n",
       "3  WestSouthCentral    Arkansas         2280             432    3009733\n",
       "4           Pacific  California       109008           20964   39461588"
      ]
     },
     "execution_count": 7,
     "metadata": {},
     "output_type": "execute_result"
    }
   ],
   "source": [
    "# Import cars data\n",
    "import pandas as pd\n",
    "homelessness = pd.read_csv('data/homelessness.csv')\n",
    "homelessness.head()"
   ]
  },
  {
   "cell_type": "code",
   "execution_count": 8,
   "metadata": {},
   "outputs": [
    {
     "name": "stdout",
     "output_type": "stream",
     "text": [
      "             region       state  individuals  family_members  state_pop\n",
      "0  EastSouthCentral     Alabama         2570             864    4887681\n",
      "1           Pacific      Alaska         1434             582     735139\n",
      "2          Mountain     Arizona         7259            2606    7158024\n",
      "3  WestSouthCentral    Arkansas         2280             432    3009733\n",
      "4           Pacific  California       109008           20964   39461588\n",
      "<class 'pandas.core.frame.DataFrame'>\n",
      "RangeIndex: 51 entries, 0 to 50\n",
      "Data columns (total 5 columns):\n",
      " #   Column          Non-Null Count  Dtype \n",
      "---  ------          --------------  ----- \n",
      " 0   region          51 non-null     object\n",
      " 1   state           51 non-null     object\n",
      " 2   individuals     51 non-null     int64 \n",
      " 3   family_members  51 non-null     int64 \n",
      " 4   state_pop       51 non-null     int64 \n",
      "dtypes: int64(3), object(2)\n",
      "memory usage: 2.1+ KB\n",
      "None\n",
      "(51, 5)\n",
      "         individuals  family_members     state_pop\n",
      "count      51.000000       51.000000  5.100000e+01\n",
      "mean     7225.784314     3504.882353  6.405637e+06\n",
      "std     15991.025083     7805.411811  7.327258e+06\n",
      "min       434.000000       75.000000  5.776010e+05\n",
      "25%      1446.500000      592.000000  1.777414e+06\n",
      "50%      3082.000000     1482.000000  4.461153e+06\n",
      "75%      6781.500000     3196.000000  7.340946e+06\n",
      "max    109008.000000    52070.000000  3.946159e+07\n"
     ]
    }
   ],
   "source": [
    "# Print the head of the homelessness data\n",
    "print(homelessness.head())\n",
    "\n",
    "# Print information about homelessness\n",
    "print(homelessness.info())\n",
    "\n",
    "# Print the shape of homelessness\n",
    "print(homelessness.shape)\n",
    "\n",
    "# Print a description of homelessness\n",
    "print(homelessness.describe())\n"
   ]
  },
  {
   "cell_type": "markdown",
   "metadata": {},
   "source": [
    "### 02- Parts of a DataFrame\n",
    "* Import `pandas` using the alias `pd`.\n",
    "* Print a 2D NumPy array of the values in `homelessness`.\n",
    "* Print the column names of `homelessness`.\n",
    "* Print the index of `homelessness`."
   ]
  },
  {
   "cell_type": "code",
   "execution_count": 9,
   "metadata": {},
   "outputs": [
    {
     "name": "stdout",
     "output_type": "stream",
     "text": [
      "[['EastSouthCentral' 'Alabama' 2570 864 4887681]\n",
      " ['Pacific' 'Alaska' 1434 582 735139]\n",
      " ['Mountain' 'Arizona' 7259 2606 7158024]\n",
      " ['WestSouthCentral' 'Arkansas' 2280 432 3009733]\n",
      " ['Pacific' 'California' 109008 20964 39461588]\n",
      " ['Mountain' 'Colorado' 7607 3250 5691287]\n",
      " ['NewEngland' 'Connecticut' 2280 1696 3571520]\n",
      " ['SouthAtlantic' 'Delaware' 708 374 965479]\n",
      " ['SouthAtlantic' 'DistrictofColumbia' 3770 3134 701547]\n",
      " ['SouthAtlantic' 'Florida' 21443 9587 21244317]\n",
      " ['SouthAtlantic' 'Georgia' 6943 2556 10511131]\n",
      " ['Pacific' 'Hawaii' 4131 2399 1420593]\n",
      " ['Mountain' 'Idaho' 1297 715 1750536]\n",
      " ['EastNorthCentral' 'Illinois' 6752 3891 12723071]\n",
      " ['EastNorthCentral' 'Indiana' 3776 1482 6695497]\n",
      " ['WestNorthCentral' 'Iowa' 1711 1038 3148618]\n",
      " ['WestNorthCentral' 'Kansas' 1443 773 2911359]\n",
      " ['EastSouthCentral' 'Kentucky' 2735 953 4461153]\n",
      " ['WestSouthCentral' 'Louisiana' 2540 519 4659690]\n",
      " ['NewEngland' 'Maine' 1450 1066 1339057]\n",
      " ['SouthAtlantic' 'Maryland' 4914 2230 6035802]\n",
      " ['NewEngland' 'Massachusetts' 6811 13257 6882635]\n",
      " ['EastNorthCentral' 'Michigan' 5209 3142 9984072]\n",
      " ['WestNorthCentral' 'Minnesota' 3993 3250 5606249]\n",
      " ['EastSouthCentral' 'Mississippi' 1024 328 2981020]\n",
      " ['WestNorthCentral' 'Missouri' 3776 2107 6121623]\n",
      " ['Mountain' 'Montana' 983 422 1060665]\n",
      " ['WestNorthCentral' 'Nebraska' 1745 676 1925614]\n",
      " ['Mountain' 'Nevada' 7058 486 3027341]\n",
      " ['NewEngland' 'NewHampshire' 835 615 1353465]\n",
      " ['Mid-Atlantic' 'NewJersey' 6048 3350 8886025]\n",
      " ['Mountain' 'NewMexico' 1949 602 2092741]\n",
      " ['Mid-Atlantic' 'NewYork' 39827 52070 19530351]\n",
      " ['SouthAtlantic' 'NorthCarolina' 6451 2817 10381615]\n",
      " ['WestNorthCentral' 'NorthDakota' 467 75 758080]\n",
      " ['EastNorthCentral' 'Ohio' 6929 3320 11676341]\n",
      " ['WestSouthCentral' 'Oklahoma' 2823 1048 3940235]\n",
      " ['Pacific' 'Oregon' 11139 3337 4181886]\n",
      " ['Mid-Atlantic' 'Pennsylvania' 8163 5349 12800922]\n",
      " ['NewEngland' 'RhodeIsland' 747 354 1058287]\n",
      " ['SouthAtlantic' 'SouthCarolina' 3082 851 5084156]\n",
      " ['WestNorthCentral' 'SouthDakota' 836 323 878698]\n",
      " ['EastSouthCentral' 'Tennessee' 6139 1744 6771631]\n",
      " ['WestSouthCentral' 'Texas' 19199 6111 28628666]\n",
      " ['Mountain' 'Utah' 1904 972 3153550]\n",
      " ['NewEngland' 'Vermont' 780 511 624358]\n",
      " ['SouthAtlantic' 'Virginia' 3928 2047 8501286]\n",
      " ['Pacific' 'Washington' 16424 5880 7523869]\n",
      " ['SouthAtlantic' 'WestVirginia' 1021 222 1804291]\n",
      " ['EastNorthCentral' 'Wisconsin' 2740 2167 5807406]\n",
      " ['Mountain' 'Wyoming' 434 205 577601]]\n",
      "=============================================\n",
      "Index(['region', 'state', 'individuals', 'family_members', 'state_pop'], dtype='object')\n",
      "=============================================\n",
      "RangeIndex(start=0, stop=51, step=1)\n",
      "=============================================\n"
     ]
    }
   ],
   "source": [
    "# Import pandas using the alias pd\n",
    "import pandas as pd \n",
    "\n",
    "# Print the values of homelessness\n",
    "print(homelessness.values)\n",
    "print(15 * \"===\")\n",
    "\n",
    "# Print the column index of homelessness\n",
    "print(homelessness.columns)\n",
    "print(15 * \"===\")\n",
    "\n",
    "# Print the row index of homelessness\n",
    "print(homelessness.index)\n",
    "print(15 * \"===\")\n"
   ]
  },
  {
   "cell_type": "markdown",
   "metadata": {},
   "source": [
    "### 03-Sorting rows\n",
    "\n",
    "* Sort `homelessness` by the number of homeless individuals, from smallest to largest, and save this as `homelessness_ind`.\n",
    "Print the head of the sorted DataFrame.\n",
    "\n",
    "* Sort `homelessness` by the number of homeless family_members in descending order, and save this as `homelessness_fam`.\n",
    "Print the head of the sorted DataFrame.\n",
    "\n",
    "* Sort `homelessness` first by region (ascending), and then by number of family members (descending). Save this as `homelessness_reg_fam`.\n",
    "Print the head of the sorted DataFrame."
   ]
  },
  {
   "cell_type": "code",
   "execution_count": 10,
   "metadata": {},
   "outputs": [
    {
     "name": "stdout",
     "output_type": "stream",
     "text": [
      "              region        state  individuals  family_members  state_pop\n",
      "50          Mountain      Wyoming          434             205     577601\n",
      "34  WestNorthCentral  NorthDakota          467              75     758080\n",
      "7      SouthAtlantic     Delaware          708             374     965479\n",
      "39        NewEngland  RhodeIsland          747             354    1058287\n",
      "45        NewEngland      Vermont          780             511     624358\n"
     ]
    }
   ],
   "source": [
    "# Sort homelessness by individuals\n",
    "homelessness_ind = homelessness.sort_values(\"individuals\")\n",
    "\n",
    "# Print the top few rows\n",
    "print(homelessness_ind.head())"
   ]
  },
  {
   "cell_type": "code",
   "execution_count": 11,
   "metadata": {},
   "outputs": [
    {
     "name": "stdout",
     "output_type": "stream",
     "text": [
      "              region          state  individuals  family_members  state_pop\n",
      "32      Mid-Atlantic        NewYork        39827           52070   19530351\n",
      "4            Pacific     California       109008           20964   39461588\n",
      "21        NewEngland  Massachusetts         6811           13257    6882635\n",
      "9      SouthAtlantic        Florida        21443            9587   21244317\n",
      "43  WestSouthCentral          Texas        19199            6111   28628666\n"
     ]
    }
   ],
   "source": [
    "# Sort homelessness by descending family members\n",
    "homelessness_fam = homelessness.sort_values(\"family_members\", ascending=False)\n",
    "\n",
    "# Print the top few rows\n",
    "print(homelessness_fam.head())"
   ]
  },
  {
   "cell_type": "code",
   "execution_count": 12,
   "metadata": {},
   "outputs": [
    {
     "name": "stdout",
     "output_type": "stream",
     "text": [
      "              region      state  individuals  family_members  state_pop\n",
      "13  EastNorthCentral   Illinois         6752            3891   12723071\n",
      "35  EastNorthCentral       Ohio         6929            3320   11676341\n",
      "22  EastNorthCentral   Michigan         5209            3142    9984072\n",
      "49  EastNorthCentral  Wisconsin         2740            2167    5807406\n",
      "14  EastNorthCentral    Indiana         3776            1482    6695497\n"
     ]
    }
   ],
   "source": [
    "# Sort homelessness by region, then descending family members\n",
    "homelessness_reg_fam = homelessness.sort_values([\"region\", \"family_members\"], ascending = [True, False])\n",
    "\n",
    "# Print the top few rows\n",
    "print(homelessness_reg_fam.head())"
   ]
  },
  {
   "cell_type": "markdown",
   "metadata": {},
   "source": [
    "### 04- Subsetting columns\n",
    "\n",
    "* Create a DataFrame called `individuals` that contains only the `individuals` column of `homelessness`.\n",
    "* Print the head of the result.\n",
    "* Create a DataFrame called `state_fam` that contains only the `state` and family_members columns of `homelessness`, in that order.\n",
    "* Print the head of the result.\n",
    "* Create a DataFrame called `ind_state` that contains the `individuals` and `state` columns of `homelessness`, in that order.\n",
    "* Print the head of the result."
   ]
  },
  {
   "cell_type": "code",
   "execution_count": 13,
   "metadata": {},
   "outputs": [
    {
     "name": "stdout",
     "output_type": "stream",
     "text": [
      "0      2570\n",
      "1      1434\n",
      "2      7259\n",
      "3      2280\n",
      "4    109008\n",
      "Name: individuals, dtype: int64\n"
     ]
    }
   ],
   "source": [
    "# Select the individuals column\n",
    "individuals = homelessness[\"individuals\"]\n",
    "\n",
    "# Print the head of the result\n",
    "print(individuals.head())"
   ]
  },
  {
   "cell_type": "code",
   "execution_count": 14,
   "metadata": {},
   "outputs": [
    {
     "name": "stdout",
     "output_type": "stream",
     "text": [
      "        state  family_members\n",
      "0     Alabama             864\n",
      "1      Alaska             582\n",
      "2     Arizona            2606\n",
      "3    Arkansas             432\n",
      "4  California           20964\n"
     ]
    }
   ],
   "source": [
    "# Select the state and family_members columns\n",
    "state_fam = homelessness[[\"state\", \"family_members\"]]\n",
    "\n",
    "# Print the head of the result\n",
    "print(state_fam.head())"
   ]
  },
  {
   "cell_type": "code",
   "execution_count": 15,
   "metadata": {},
   "outputs": [
    {
     "name": "stdout",
     "output_type": "stream",
     "text": [
      "   individuals       state\n",
      "0         2570     Alabama\n",
      "1         1434      Alaska\n",
      "2         7259     Arizona\n",
      "3         2280    Arkansas\n",
      "4       109008  California\n"
     ]
    }
   ],
   "source": [
    "# Select only the individuals and state columns, in that order\n",
    "ind_state = homelessness[[\"individuals\", \"state\"]]\n",
    "\n",
    "# Print the head of the result\n",
    "print(ind_state.head())"
   ]
  },
  {
   "cell_type": "markdown",
   "metadata": {},
   "source": [
    "### 05- Subsetting rows\n",
    "\n",
    "* Filter `homelessness` for cases where the number of individuals is greater than ten thousand, assigning to `ind_gt_10k`. View the printed result.\n",
    "* Filter `homelessness` for cases where the USA Census region is `\"Mountain\"`, assigning to` mountain_reg`. View the printed result.\n",
    "* Filter `homelessness` for cases where the number of `family_members` is less than one thousand and the region is `\"Pacific\"`, assigning to fam_lt_1k_pac. View the printed result.\n",
    "\n",
    "\n"
   ]
  },
  {
   "cell_type": "code",
   "execution_count": 16,
   "metadata": {},
   "outputs": [
    {
     "name": "stdout",
     "output_type": "stream",
     "text": [
      "              region       state  individuals  family_members  state_pop\n",
      "4            Pacific  California       109008           20964   39461588\n",
      "9      SouthAtlantic     Florida        21443            9587   21244317\n",
      "32      Mid-Atlantic     NewYork        39827           52070   19530351\n",
      "37           Pacific      Oregon        11139            3337    4181886\n",
      "43  WestSouthCentral       Texas        19199            6111   28628666\n",
      "47           Pacific  Washington        16424            5880    7523869\n"
     ]
    }
   ],
   "source": [
    "# Filter for rows where individuals is greater than 10000\n",
    "ind_gt_10k = homelessness[homelessness[\"individuals\"] > 10000]\n",
    "\n",
    "# See the result\n",
    "print(ind_gt_10k)"
   ]
  },
  {
   "cell_type": "code",
   "execution_count": 17,
   "metadata": {},
   "outputs": [
    {
     "name": "stdout",
     "output_type": "stream",
     "text": [
      "      region      state  individuals  family_members  state_pop\n",
      "2   Mountain    Arizona         7259            2606    7158024\n",
      "5   Mountain   Colorado         7607            3250    5691287\n",
      "12  Mountain      Idaho         1297             715    1750536\n",
      "26  Mountain    Montana          983             422    1060665\n",
      "28  Mountain     Nevada         7058             486    3027341\n",
      "31  Mountain  NewMexico         1949             602    2092741\n",
      "44  Mountain       Utah         1904             972    3153550\n",
      "50  Mountain    Wyoming          434             205     577601\n"
     ]
    }
   ],
   "source": [
    "# Filter for rows where region is Mountain\n",
    "mountain_reg = homelessness[homelessness[\"region\"] == \"Mountain\"]\n",
    "\n",
    "# See the result\n",
    "print(mountain_reg)"
   ]
  },
  {
   "cell_type": "code",
   "execution_count": 18,
   "metadata": {},
   "outputs": [
    {
     "name": "stdout",
     "output_type": "stream",
     "text": [
      "    region   state  individuals  family_members  state_pop\n",
      "1  Pacific  Alaska         1434             582     735139\n"
     ]
    }
   ],
   "source": [
    "# Filter for rows where family_members is less than 1000 \n",
    "# and region is Pacific\n",
    "fam_lt_1k_pac = homelessness[(homelessness[\"family_members\"] < 1000) & (homelessness[\"region\"] == \"Pacific\")]\n",
    "\n",
    "# See the result\n",
    "print(fam_lt_1k_pac)"
   ]
  },
  {
   "cell_type": "markdown",
   "metadata": {},
   "source": [
    "### 06-Subsetting rows by categorical variables\n",
    "\n",
    "* Filter `homelessness` for cases where the USA census region is \"South Atlantic\" or it is \"Mid-Atlantic\", assigning to `south_mid_atlantic`. View the printed result.\n",
    "* Filter `homelessness` for cases where the USA census state is in the list of Mojave states, canu, assigning to mojave_homelessness. View the printed result."
   ]
  },
  {
   "cell_type": "code",
   "execution_count": 19,
   "metadata": {},
   "outputs": [
    {
     "name": "stdout",
     "output_type": "stream",
     "text": [
      "          region         state  individuals  family_members  state_pop\n",
      "30  Mid-Atlantic     NewJersey         6048            3350    8886025\n",
      "32  Mid-Atlantic       NewYork        39827           52070   19530351\n",
      "38  Mid-Atlantic  Pennsylvania         8163            5349   12800922\n"
     ]
    }
   ],
   "source": [
    "# Subset for rows in South Atlantic or Mid-Atlantic regions\n",
    "south_mid_atlantic = homelessness[homelessness[\"region\"].isin([\"South Atlantic\", \"Mid-Atlantic\"])]\n",
    "\n",
    "# See the result\n",
    "print(south_mid_atlantic)"
   ]
  },
  {
   "cell_type": "code",
   "execution_count": 20,
   "metadata": {},
   "outputs": [
    {
     "name": "stdout",
     "output_type": "stream",
     "text": [
      "      region       state  individuals  family_members  state_pop\n",
      "2   Mountain     Arizona         7259            2606    7158024\n",
      "4    Pacific  California       109008           20964   39461588\n",
      "28  Mountain      Nevada         7058             486    3027341\n",
      "44  Mountain        Utah         1904             972    3153550\n"
     ]
    }
   ],
   "source": [
    "# The Mojave Desert states\n",
    "canu = [\"California\", \"Arizona\", \"Nevada\", \"Utah\"]\n",
    "\n",
    "# Filter for rows in the Mojave Desert states\n",
    "mojave_homelessness = homelessness[homelessness[\"state\"].isin(canu)]\n",
    "\n",
    "# See the result\n",
    "print(mojave_homelessness)"
   ]
  },
  {
   "cell_type": "markdown",
   "metadata": {},
   "source": [
    "### 07- Adding new columns\n",
    "\n",
    "* Add a new column to `homelessness`, named `total`, containing the sum of the `individuals` and `family_members` columns.\n",
    "* Add another column to `homelessness`, named `p_individuals`, containing the proportion of homeless people in each state who are individuals.\n"
   ]
  },
  {
   "cell_type": "code",
   "execution_count": 23,
   "metadata": {},
   "outputs": [
    {
     "data": {
      "text/html": [
       "<div>\n",
       "<style scoped>\n",
       "    .dataframe tbody tr th:only-of-type {\n",
       "        vertical-align: middle;\n",
       "    }\n",
       "\n",
       "    .dataframe tbody tr th {\n",
       "        vertical-align: top;\n",
       "    }\n",
       "\n",
       "    .dataframe thead th {\n",
       "        text-align: right;\n",
       "    }\n",
       "</style>\n",
       "<table border=\"1\" class=\"dataframe\">\n",
       "  <thead>\n",
       "    <tr style=\"text-align: right;\">\n",
       "      <th></th>\n",
       "      <th>region</th>\n",
       "      <th>state</th>\n",
       "      <th>individuals</th>\n",
       "      <th>family_members</th>\n",
       "      <th>state_pop</th>\n",
       "      <th>total</th>\n",
       "      <th>p_individuals</th>\n",
       "    </tr>\n",
       "  </thead>\n",
       "  <tbody>\n",
       "    <tr>\n",
       "      <th>0</th>\n",
       "      <td>EastSouthCentral</td>\n",
       "      <td>Alabama</td>\n",
       "      <td>2570</td>\n",
       "      <td>864</td>\n",
       "      <td>4887681</td>\n",
       "      <td>3434</td>\n",
       "      <td>0.748398</td>\n",
       "    </tr>\n",
       "    <tr>\n",
       "      <th>1</th>\n",
       "      <td>Pacific</td>\n",
       "      <td>Alaska</td>\n",
       "      <td>1434</td>\n",
       "      <td>582</td>\n",
       "      <td>735139</td>\n",
       "      <td>2016</td>\n",
       "      <td>0.711310</td>\n",
       "    </tr>\n",
       "    <tr>\n",
       "      <th>2</th>\n",
       "      <td>Mountain</td>\n",
       "      <td>Arizona</td>\n",
       "      <td>7259</td>\n",
       "      <td>2606</td>\n",
       "      <td>7158024</td>\n",
       "      <td>9865</td>\n",
       "      <td>0.735834</td>\n",
       "    </tr>\n",
       "    <tr>\n",
       "      <th>3</th>\n",
       "      <td>WestSouthCentral</td>\n",
       "      <td>Arkansas</td>\n",
       "      <td>2280</td>\n",
       "      <td>432</td>\n",
       "      <td>3009733</td>\n",
       "      <td>2712</td>\n",
       "      <td>0.840708</td>\n",
       "    </tr>\n",
       "    <tr>\n",
       "      <th>4</th>\n",
       "      <td>Pacific</td>\n",
       "      <td>California</td>\n",
       "      <td>109008</td>\n",
       "      <td>20964</td>\n",
       "      <td>39461588</td>\n",
       "      <td>129972</td>\n",
       "      <td>0.838704</td>\n",
       "    </tr>\n",
       "    <tr>\n",
       "      <th>5</th>\n",
       "      <td>Mountain</td>\n",
       "      <td>Colorado</td>\n",
       "      <td>7607</td>\n",
       "      <td>3250</td>\n",
       "      <td>5691287</td>\n",
       "      <td>10857</td>\n",
       "      <td>0.700654</td>\n",
       "    </tr>\n",
       "    <tr>\n",
       "      <th>6</th>\n",
       "      <td>NewEngland</td>\n",
       "      <td>Connecticut</td>\n",
       "      <td>2280</td>\n",
       "      <td>1696</td>\n",
       "      <td>3571520</td>\n",
       "      <td>3976</td>\n",
       "      <td>0.573441</td>\n",
       "    </tr>\n",
       "    <tr>\n",
       "      <th>7</th>\n",
       "      <td>SouthAtlantic</td>\n",
       "      <td>Delaware</td>\n",
       "      <td>708</td>\n",
       "      <td>374</td>\n",
       "      <td>965479</td>\n",
       "      <td>1082</td>\n",
       "      <td>0.654344</td>\n",
       "    </tr>\n",
       "    <tr>\n",
       "      <th>8</th>\n",
       "      <td>SouthAtlantic</td>\n",
       "      <td>DistrictofColumbia</td>\n",
       "      <td>3770</td>\n",
       "      <td>3134</td>\n",
       "      <td>701547</td>\n",
       "      <td>6904</td>\n",
       "      <td>0.546060</td>\n",
       "    </tr>\n",
       "    <tr>\n",
       "      <th>9</th>\n",
       "      <td>SouthAtlantic</td>\n",
       "      <td>Florida</td>\n",
       "      <td>21443</td>\n",
       "      <td>9587</td>\n",
       "      <td>21244317</td>\n",
       "      <td>31030</td>\n",
       "      <td>0.691041</td>\n",
       "    </tr>\n",
       "  </tbody>\n",
       "</table>\n",
       "</div>"
      ],
      "text/plain": [
       "             region               state  individuals  family_members  \\\n",
       "0  EastSouthCentral             Alabama         2570             864   \n",
       "1           Pacific              Alaska         1434             582   \n",
       "2          Mountain             Arizona         7259            2606   \n",
       "3  WestSouthCentral            Arkansas         2280             432   \n",
       "4           Pacific          California       109008           20964   \n",
       "5          Mountain            Colorado         7607            3250   \n",
       "6        NewEngland         Connecticut         2280            1696   \n",
       "7     SouthAtlantic            Delaware          708             374   \n",
       "8     SouthAtlantic  DistrictofColumbia         3770            3134   \n",
       "9     SouthAtlantic             Florida        21443            9587   \n",
       "\n",
       "   state_pop   total  p_individuals  \n",
       "0    4887681    3434       0.748398  \n",
       "1     735139    2016       0.711310  \n",
       "2    7158024    9865       0.735834  \n",
       "3    3009733    2712       0.840708  \n",
       "4   39461588  129972       0.838704  \n",
       "5    5691287   10857       0.700654  \n",
       "6    3571520    3976       0.573441  \n",
       "7     965479    1082       0.654344  \n",
       "8     701547    6904       0.546060  \n",
       "9   21244317   31030       0.691041  "
      ]
     },
     "execution_count": 23,
     "metadata": {},
     "output_type": "execute_result"
    }
   ],
   "source": [
    "# Add total col as sum of individuals and family_members\n",
    "homelessness[\"total\"] = homelessness[\"individuals\"] + homelessness[\"family_members\"]\n",
    "\n",
    "# Add p_individuals col as proportion of total that are individuals\n",
    "homelessness[\"p_individuals\"] = homelessness[\"individuals\"] / homelessness[\"total\"]\n",
    "\n",
    "# See the result\n",
    "homelessness.head(10)"
   ]
  },
  {
   "cell_type": "markdown",
   "metadata": {},
   "source": [
    "### 08-Combo-attack!\n",
    "\n",
    "* Add a column to `homelessness`, `indiv_per_10k`, containing the number of homeless individuals per ten thousand people in each state.\n",
    "* Subset rows where `indiv_per_10k` is higher than `20`, assigning to `high_homelessness`.\n",
    "* Sort `high_homelessness` by descending `indiv_per_10k`, assigning to `high_homelessness_srt`.\n",
    "* Select only the `state` and `indiv_per_10k` columns of `high_homelessness_srt` and save as `result`. Look at the `result`."
   ]
  },
  {
   "cell_type": "code",
   "execution_count": 24,
   "metadata": {},
   "outputs": [
    {
     "name": "stdout",
     "output_type": "stream",
     "text": [
      "                 state  indiv_per_10k\n",
      "8   DistrictofColumbia      53.738381\n",
      "11              Hawaii      29.079406\n",
      "4           California      27.623825\n",
      "37              Oregon      26.636307\n",
      "28              Nevada      23.314189\n",
      "47          Washington      21.829195\n",
      "32             NewYork      20.392363\n"
     ]
    }
   ],
   "source": [
    "# Create indiv_per_10k col as homeless individuals per 10k state pop\n",
    "homelessness[\"indiv_per_10k\"] = 10000 * homelessness[\"individuals\"]  / homelessness[\"state_pop\"] \n",
    "\n",
    "# Subset rows for indiv_per_10k greater than 20\n",
    "high_homelessness = homelessness[homelessness[\"indiv_per_10k\"] > 20]\n",
    "\n",
    "# Sort high_homelessness by descending indiv_per_10k\n",
    "high_homelessness_srt = high_homelessness.sort_values(\"indiv_per_10k\", ascending=False)\n",
    "\n",
    "# From high_homelessness_srt, select the state and indiv_per_10k cols\n",
    "result = high_homelessness_srt[[\"state\", \"indiv_per_10k\"]]\n",
    "\n",
    "# See the result\n",
    "print(result)"
   ]
  },
  {
   "cell_type": "markdown",
   "metadata": {},
   "source": [
    "==================================\n",
    "### `The End`\n",
    "=================================="
   ]
  }
 ],
 "metadata": {
  "interpreter": {
   "hash": "375c74fd8c11b85bdfdf0d0a51867cc40572443e91947231b688f7b7116ba890"
  },
  "kernelspec": {
   "display_name": "Python 3.6.8 64-bit",
   "language": "python",
   "name": "python3"
  },
  "language_info": {
   "codemirror_mode": {
    "name": "ipython",
    "version": 3
   },
   "file_extension": ".py",
   "mimetype": "text/x-python",
   "name": "python",
   "nbconvert_exporter": "python",
   "pygments_lexer": "ipython3",
   "version": "3.6.8"
  },
  "orig_nbformat": 4
 },
 "nbformat": 4,
 "nbformat_minor": 2
}
