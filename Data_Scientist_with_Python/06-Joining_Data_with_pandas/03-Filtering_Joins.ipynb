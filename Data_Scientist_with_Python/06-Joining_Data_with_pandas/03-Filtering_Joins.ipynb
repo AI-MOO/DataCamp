{
 "cells": [
  {
   "cell_type": "markdown",
   "metadata": {},
   "source": [
    "## `Section 03: Filtering Joins`\n"
   ]
  },
  {
   "cell_type": "markdown",
   "metadata": {},
   "source": [
    "### 01-Performing an anti join\n",
    "\n",
    "* Merge `employees` and `top_cust` with a left join, setting `indicator` argument to `True`. Save the result to `empl_cust`.\n",
    "\n",
    "\n"
   ]
  },
  {
   "cell_type": "code",
   "execution_count": 2,
   "metadata": {},
   "outputs": [],
   "source": [
    "import pandas as pd \n",
    "\n",
    "with open(\"dataset/employees.csv\", \"rb\") as f1, open(\"dataset/top_cust.csv\", \"rb\") as f2:\n",
    "    employees = pd.read_csv(f1) \n",
    "    top_cust = pd.read_csv(f2)\n"
   ]
  },
  {
   "cell_type": "code",
   "execution_count": 3,
   "metadata": {},
   "outputs": [
    {
     "data": {
      "text/html": [
       "<div>\n",
       "<style scoped>\n",
       "    .dataframe tbody tr th:only-of-type {\n",
       "        vertical-align: middle;\n",
       "    }\n",
       "\n",
       "    .dataframe tbody tr th {\n",
       "        vertical-align: top;\n",
       "    }\n",
       "\n",
       "    .dataframe thead th {\n",
       "        text-align: right;\n",
       "    }\n",
       "</style>\n",
       "<table border=\"1\" class=\"dataframe\">\n",
       "  <thead>\n",
       "    <tr style=\"text-align: right;\">\n",
       "      <th></th>\n",
       "      <th>srid</th>\n",
       "      <th>lname</th>\n",
       "      <th>fname_x</th>\n",
       "      <th>title</th>\n",
       "      <th>email_x</th>\n",
       "      <th>cid</th>\n",
       "      <th>fname_y</th>\n",
       "      <th>\\t\\tlname</th>\n",
       "      <th>phone</th>\n",
       "      <th>fax</th>\n",
       "      <th>email_y</th>\n",
       "      <th>_merge</th>\n",
       "    </tr>\n",
       "  </thead>\n",
       "  <tbody>\n",
       "    <tr>\n",
       "      <th>0</th>\n",
       "      <td>1</td>\n",
       "      <td>Adams</td>\n",
       "      <td>Andrew</td>\n",
       "      <td>General Manager 2002-08-14</td>\n",
       "      <td>andrew@chinookcorp.com</td>\n",
       "      <td>NaN</td>\n",
       "      <td>NaN</td>\n",
       "      <td>NaN</td>\n",
       "      <td>NaN</td>\n",
       "      <td>NaN</td>\n",
       "      <td>NaN</td>\n",
       "      <td>left_only</td>\n",
       "    </tr>\n",
       "    <tr>\n",
       "      <th>1</th>\n",
       "      <td>2</td>\n",
       "      <td>Edwards</td>\n",
       "      <td>Nancy</td>\n",
       "      <td>Sales Manager 2002-05-01</td>\n",
       "      <td>nancy@chinookcorp.com</td>\n",
       "      <td>NaN</td>\n",
       "      <td>NaN</td>\n",
       "      <td>NaN</td>\n",
       "      <td>NaN</td>\n",
       "      <td>NaN</td>\n",
       "      <td>NaN</td>\n",
       "      <td>left_only</td>\n",
       "    </tr>\n",
       "    <tr>\n",
       "      <th>2</th>\n",
       "      <td>3</td>\n",
       "      <td>Peacock</td>\n",
       "      <td>Jane</td>\n",
       "      <td>Sales Support Agent 2002-04-01</td>\n",
       "      <td>jane@chinookcorp.com</td>\n",
       "      <td>1.0</td>\n",
       "      <td>Luís</td>\n",
       "      <td>Gonçalves</td>\n",
       "      <td>+55 (12) 3923-5555</td>\n",
       "      <td>+55 (12) 3923-5566</td>\n",
       "      <td>luisg@embraer.com.br</td>\n",
       "      <td>both</td>\n",
       "    </tr>\n",
       "    <tr>\n",
       "      <th>3</th>\n",
       "      <td>3</td>\n",
       "      <td>Peacock</td>\n",
       "      <td>Jane</td>\n",
       "      <td>Sales Support Agent 2002-04-01</td>\n",
       "      <td>jane@chinookcorp.com</td>\n",
       "      <td>3.0</td>\n",
       "      <td>François</td>\n",
       "      <td>Tremblay</td>\n",
       "      <td>+1 (514) 721-4711</td>\n",
       "      <td>NaN</td>\n",
       "      <td>ftremblay@gmail.com</td>\n",
       "      <td>both</td>\n",
       "    </tr>\n",
       "    <tr>\n",
       "      <th>4</th>\n",
       "      <td>3</td>\n",
       "      <td>Peacock</td>\n",
       "      <td>Jane</td>\n",
       "      <td>Sales Support Agent 2002-04-01</td>\n",
       "      <td>jane@chinookcorp.com</td>\n",
       "      <td>12.0</td>\n",
       "      <td>Roberto</td>\n",
       "      <td>Almeida</td>\n",
       "      <td>+55 (21) 2271-7000</td>\n",
       "      <td>+55 (21) 2271-7070</td>\n",
       "      <td>roberto.almeida@riotur.gov.br</td>\n",
       "      <td>both</td>\n",
       "    </tr>\n",
       "    <tr>\n",
       "      <th>...</th>\n",
       "      <td>...</td>\n",
       "      <td>...</td>\n",
       "      <td>...</td>\n",
       "      <td>...</td>\n",
       "      <td>...</td>\n",
       "      <td>...</td>\n",
       "      <td>...</td>\n",
       "      <td>...</td>\n",
       "      <td>...</td>\n",
       "      <td>...</td>\n",
       "      <td>...</td>\n",
       "      <td>...</td>\n",
       "    </tr>\n",
       "    <tr>\n",
       "      <th>59</th>\n",
       "      <td>5</td>\n",
       "      <td>Johnson</td>\n",
       "      <td>Steve</td>\n",
       "      <td>Sales Support Agent 2003-10-17</td>\n",
       "      <td>steve@chinookcorp.com</td>\n",
       "      <td>54.0</td>\n",
       "      <td>Steve</td>\n",
       "      <td>Murray</td>\n",
       "      <td>+44 0131 315 3300</td>\n",
       "      <td>NaN</td>\n",
       "      <td>steve.murray@yahoo.uk</td>\n",
       "      <td>both</td>\n",
       "    </tr>\n",
       "    <tr>\n",
       "      <th>60</th>\n",
       "      <td>5</td>\n",
       "      <td>Johnson</td>\n",
       "      <td>Steve</td>\n",
       "      <td>Sales Support Agent 2003-10-17</td>\n",
       "      <td>steve@chinookcorp.com</td>\n",
       "      <td>57.0</td>\n",
       "      <td>Luis</td>\n",
       "      <td>Rojas</td>\n",
       "      <td>+56 (0)2 635 4444</td>\n",
       "      <td>NaN</td>\n",
       "      <td>luisrojas@yahoo.cl</td>\n",
       "      <td>both</td>\n",
       "    </tr>\n",
       "    <tr>\n",
       "      <th>61</th>\n",
       "      <td>6</td>\n",
       "      <td>Mitchell</td>\n",
       "      <td>Michael</td>\n",
       "      <td>IT Manager 2003-10-17</td>\n",
       "      <td>michael@chinookcorp.com</td>\n",
       "      <td>NaN</td>\n",
       "      <td>NaN</td>\n",
       "      <td>NaN</td>\n",
       "      <td>NaN</td>\n",
       "      <td>NaN</td>\n",
       "      <td>NaN</td>\n",
       "      <td>left_only</td>\n",
       "    </tr>\n",
       "    <tr>\n",
       "      <th>62</th>\n",
       "      <td>7</td>\n",
       "      <td>King</td>\n",
       "      <td>Robert</td>\n",
       "      <td>IT Staff 2004-01-02</td>\n",
       "      <td>robert@chinookcorp.com</td>\n",
       "      <td>NaN</td>\n",
       "      <td>NaN</td>\n",
       "      <td>NaN</td>\n",
       "      <td>NaN</td>\n",
       "      <td>NaN</td>\n",
       "      <td>NaN</td>\n",
       "      <td>left_only</td>\n",
       "    </tr>\n",
       "    <tr>\n",
       "      <th>63</th>\n",
       "      <td>8</td>\n",
       "      <td>Callahan</td>\n",
       "      <td>Laura</td>\n",
       "      <td>IT Staff 2004-03-04</td>\n",
       "      <td>laura@chinookcorp.com</td>\n",
       "      <td>NaN</td>\n",
       "      <td>NaN</td>\n",
       "      <td>NaN</td>\n",
       "      <td>NaN</td>\n",
       "      <td>NaN</td>\n",
       "      <td>NaN</td>\n",
       "      <td>left_only</td>\n",
       "    </tr>\n",
       "  </tbody>\n",
       "</table>\n",
       "<p>64 rows × 12 columns</p>\n",
       "</div>"
      ],
      "text/plain": [
       "    srid     lname  fname_x                           title  \\\n",
       "0      1     Adams   Andrew      General Manager 2002-08-14   \n",
       "1      2   Edwards    Nancy        Sales Manager 2002-05-01   \n",
       "2      3   Peacock     Jane  Sales Support Agent 2002-04-01   \n",
       "3      3   Peacock     Jane  Sales Support Agent 2002-04-01   \n",
       "4      3   Peacock     Jane  Sales Support Agent 2002-04-01   \n",
       "..   ...       ...      ...                             ...   \n",
       "59     5   Johnson    Steve  Sales Support Agent 2003-10-17   \n",
       "60     5   Johnson    Steve  Sales Support Agent 2003-10-17   \n",
       "61     6  Mitchell  Michael           IT Manager 2003-10-17   \n",
       "62     7      King   Robert             IT Staff 2004-01-02   \n",
       "63     8  Callahan    Laura             IT Staff 2004-03-04   \n",
       "\n",
       "                    email_x   cid   fname_y  \\t\\tlname               phone  \\\n",
       "0    andrew@chinookcorp.com   NaN       NaN        NaN                 NaN   \n",
       "1     nancy@chinookcorp.com   NaN       NaN        NaN                 NaN   \n",
       "2      jane@chinookcorp.com   1.0      Luís  Gonçalves  +55 (12) 3923-5555   \n",
       "3      jane@chinookcorp.com   3.0  François   Tremblay   +1 (514) 721-4711   \n",
       "4      jane@chinookcorp.com  12.0   Roberto    Almeida  +55 (21) 2271-7000   \n",
       "..                      ...   ...       ...        ...                 ...   \n",
       "59    steve@chinookcorp.com  54.0     Steve     Murray   +44 0131 315 3300   \n",
       "60    steve@chinookcorp.com  57.0      Luis      Rojas   +56 (0)2 635 4444   \n",
       "61  michael@chinookcorp.com   NaN       NaN        NaN                 NaN   \n",
       "62   robert@chinookcorp.com   NaN       NaN        NaN                 NaN   \n",
       "63    laura@chinookcorp.com   NaN       NaN        NaN                 NaN   \n",
       "\n",
       "                   fax                        email_y     _merge  \n",
       "0                  NaN                            NaN  left_only  \n",
       "1                  NaN                            NaN  left_only  \n",
       "2   +55 (12) 3923-5566           luisg@embraer.com.br       both  \n",
       "3                  NaN            ftremblay@gmail.com       both  \n",
       "4   +55 (21) 2271-7070  roberto.almeida@riotur.gov.br       both  \n",
       "..                 ...                            ...        ...  \n",
       "59                 NaN          steve.murray@yahoo.uk       both  \n",
       "60                 NaN             luisrojas@yahoo.cl       both  \n",
       "61                 NaN                            NaN  left_only  \n",
       "62                 NaN                            NaN  left_only  \n",
       "63                 NaN                            NaN  left_only  \n",
       "\n",
       "[64 rows x 12 columns]"
      ]
     },
     "execution_count": 3,
     "metadata": {},
     "output_type": "execute_result"
    }
   ],
   "source": [
    "# Merge employees and top_cust\n",
    "empl_cust = employees.merge(top_cust, on=\"srid\", \n",
    "                            how=\"left\", indicator=True)\n",
    "\n",
    "empl_cust"
   ]
  },
  {
   "cell_type": "markdown",
   "metadata": {},
   "source": [
    "* Select the `srid` column of `empl_cust` and the rows where `_merge` is `'left_only'`. Save the result to `srid_list`.\n"
   ]
  },
  {
   "cell_type": "code",
   "execution_count": 4,
   "metadata": {},
   "outputs": [
    {
     "data": {
      "text/plain": [
       "0     1\n",
       "1     2\n",
       "61    6\n",
       "62    7\n",
       "63    8\n",
       "Name: srid, dtype: int64"
      ]
     },
     "execution_count": 4,
     "metadata": {},
     "output_type": "execute_result"
    }
   ],
   "source": [
    "# Select the srid column where _merge is left_only\n",
    "srid_list = empl_cust.loc[empl_cust[\"_merge\"] == \"left_only\", 'srid']\n",
    "srid_list"
   ]
  },
  {
   "cell_type": "markdown",
   "metadata": {},
   "source": [
    "* Subset the `employees` table and select those rows where the `srid` is in the variable `srid_list` and print the results.\n",
    "\n"
   ]
  },
  {
   "cell_type": "code",
   "execution_count": 5,
   "metadata": {},
   "outputs": [
    {
     "name": "stdout",
     "output_type": "stream",
     "text": [
      "   srid     lname    fname                       title  \\\n",
      "0     1     Adams   Andrew  General Manager 2002-08-14   \n",
      "1     2   Edwards    Nancy    Sales Manager 2002-05-01   \n",
      "5     6  Mitchell  Michael       IT Manager 2003-10-17   \n",
      "6     7      King   Robert         IT Staff 2004-01-02   \n",
      "7     8  Callahan    Laura         IT Staff 2004-03-04   \n",
      "\n",
      "                     email  \n",
      "0   andrew@chinookcorp.com  \n",
      "1    nancy@chinookcorp.com  \n",
      "5  michael@chinookcorp.com  \n",
      "6   robert@chinookcorp.com  \n",
      "7    laura@chinookcorp.com  \n"
     ]
    }
   ],
   "source": [
    "# Get employees not working with top customers\n",
    "print(employees[employees[\"srid\"].isin(srid_list)])"
   ]
  },
  {
   "cell_type": "code",
   "execution_count": 6,
   "metadata": {},
   "outputs": [
    {
     "data": {
      "text/html": [
       "<div>\n",
       "<style scoped>\n",
       "    .dataframe tbody tr th:only-of-type {\n",
       "        vertical-align: middle;\n",
       "    }\n",
       "\n",
       "    .dataframe tbody tr th {\n",
       "        vertical-align: top;\n",
       "    }\n",
       "\n",
       "    .dataframe thead th {\n",
       "        text-align: right;\n",
       "    }\n",
       "</style>\n",
       "<table border=\"1\" class=\"dataframe\">\n",
       "  <thead>\n",
       "    <tr style=\"text-align: right;\">\n",
       "      <th></th>\n",
       "      <th>srid</th>\n",
       "      <th>lname</th>\n",
       "      <th>fname</th>\n",
       "      <th>title</th>\n",
       "      <th>email</th>\n",
       "    </tr>\n",
       "  </thead>\n",
       "  <tbody>\n",
       "    <tr>\n",
       "      <th>0</th>\n",
       "      <td>1</td>\n",
       "      <td>Adams</td>\n",
       "      <td>Andrew</td>\n",
       "      <td>General Manager 2002-08-14</td>\n",
       "      <td>andrew@chinookcorp.com</td>\n",
       "    </tr>\n",
       "    <tr>\n",
       "      <th>1</th>\n",
       "      <td>2</td>\n",
       "      <td>Edwards</td>\n",
       "      <td>Nancy</td>\n",
       "      <td>Sales Manager 2002-05-01</td>\n",
       "      <td>nancy@chinookcorp.com</td>\n",
       "    </tr>\n",
       "    <tr>\n",
       "      <th>5</th>\n",
       "      <td>6</td>\n",
       "      <td>Mitchell</td>\n",
       "      <td>Michael</td>\n",
       "      <td>IT Manager 2003-10-17</td>\n",
       "      <td>michael@chinookcorp.com</td>\n",
       "    </tr>\n",
       "    <tr>\n",
       "      <th>6</th>\n",
       "      <td>7</td>\n",
       "      <td>King</td>\n",
       "      <td>Robert</td>\n",
       "      <td>IT Staff 2004-01-02</td>\n",
       "      <td>robert@chinookcorp.com</td>\n",
       "    </tr>\n",
       "    <tr>\n",
       "      <th>7</th>\n",
       "      <td>8</td>\n",
       "      <td>Callahan</td>\n",
       "      <td>Laura</td>\n",
       "      <td>IT Staff 2004-03-04</td>\n",
       "      <td>laura@chinookcorp.com</td>\n",
       "    </tr>\n",
       "  </tbody>\n",
       "</table>\n",
       "</div>"
      ],
      "text/plain": [
       "   srid     lname    fname                       title  \\\n",
       "0     1     Adams   Andrew  General Manager 2002-08-14   \n",
       "1     2   Edwards    Nancy    Sales Manager 2002-05-01   \n",
       "5     6  Mitchell  Michael       IT Manager 2003-10-17   \n",
       "6     7      King   Robert         IT Staff 2004-01-02   \n",
       "7     8  Callahan    Laura         IT Staff 2004-03-04   \n",
       "\n",
       "                     email  \n",
       "0   andrew@chinookcorp.com  \n",
       "1    nancy@chinookcorp.com  \n",
       "5  michael@chinookcorp.com  \n",
       "6   robert@chinookcorp.com  \n",
       "7    laura@chinookcorp.com  "
      ]
     },
     "execution_count": 6,
     "metadata": {},
     "output_type": "execute_result"
    }
   ],
   "source": [
    "employees[employees[\"srid\"].isin(srid_list)]"
   ]
  },
  {
   "cell_type": "markdown",
   "metadata": {},
   "source": [
    "### 02- Performing a semi join\n",
    "\n",
    "* Merge `non_mus_tcks` and `top_invoices` on `tid` using an inner join. Save the result as `tracks_invoices`.\n",
    "* Use `.isin()` to subset the rows of `non_mus_tck` where `tid` is in the `tid` column of `tracks_invoices`. Save the result as `top_tracks`.\n",
    "* Group `top_tracks` by `gid` and count the `tid` rows. Save the result to `cnt_by_gid`.\n",
    "* Merge `cnt_by_gid` with the `genres` table on `gid` and print the result."
   ]
  },
  {
   "cell_type": "code",
   "execution_count": 7,
   "metadata": {},
   "outputs": [],
   "source": [
    "with open(\"dataset/non_mus_tcks.csv\", \"rb\" ) as f1, open(\"dataset/top_invoices.csv\", \"rb\") as f2,\\\n",
    "     open(\"dataset/genres.csv\", \"rb\" ) as f3: \n",
    "\n",
    "     non_mus_tcks = pd.read_csv(f1).set_index(\"index\")\n",
    "     top_invoices = pd.read_csv(f2).set_index(\"index\")\n",
    "     genres = pd.read_csv(f3)"
   ]
  },
  {
   "cell_type": "code",
   "execution_count": 8,
   "metadata": {},
   "outputs": [
    {
     "name": "stdout",
     "output_type": "stream",
     "text": [
      "   gid  tid      name\n",
      "0   19    4  TV Shows\n",
      "1   21    2     Drama\n",
      "2   22    1    Comedy\n"
     ]
    }
   ],
   "source": [
    "# Merge the non_mus_tck and top_invoices tables on tid\n",
    "tracks_invoices = non_mus_tcks.merge(top_invoices, on=\"tid\", how=\"inner\")\n",
    "\n",
    "# Use .isin() to subset non_mus_tcks to rows with tid in tracks_invoices\n",
    "top_tracks = non_mus_tcks[non_mus_tcks['tid'].isin(tracks_invoices['tid'])]\n",
    "\n",
    "# Group the top_tracks by gid and count the tid rows\n",
    "cnt_by_gid = top_tracks.groupby(['gid'], as_index=False).agg({'tid':'count'})\n",
    "\n",
    "# Merge the genres table to cnt_by_gid on gid and print\n",
    "print(cnt_by_gid.merge(genres, on=\"gid\"))"
   ]
  },
  {
   "cell_type": "markdown",
   "metadata": {},
   "source": [
    "### 03-Concatenation basics\n",
    "* Concatenate `tracks_master`, `tracks_ride`, and `tracks_st`, in that order, setting `sort` to `True`.\n"
   ]
  },
  {
   "cell_type": "code",
   "execution_count": 9,
   "metadata": {},
   "outputs": [],
   "source": [
    "with open(\"dataset/tracks_master.csv\", \"rb\" ) as f1, open(\"dataset/tracks_ride.csv\", \"rb\") as f2,\\\n",
    "     open(\"dataset/tracks_st.csv\", \"rb\" ) as f3: \n",
    "\n",
    "     tracks_master = pd.read_csv(f1).set_index(\"index\")\n",
    "     tracks_ride = pd.read_csv(f2).set_index(\"index\")\n",
    "     tracks_st = pd.read_csv(f3).set_index(\"index\")"
   ]
  },
  {
   "cell_type": "code",
   "execution_count": 10,
   "metadata": {},
   "outputs": [
    {
     "name": "stdout",
     "output_type": "stream",
     "text": [
      "       aid             composer  gid  mtid                     name   tid  \\\n",
      "index                                                                       \n",
      "0      152  J.Hetfield/L.Ulrich    3     1                  Battery  1853   \n",
      "1      152            K.Hammett    3     1        Master Of Puppets  1854   \n",
      "4      152  J.Hetfield/L.Ulrich    3     1        Disposable Heroes  1857   \n",
      "0      154                  NaN    3     1     Fight Fire With Fire  1874   \n",
      "1      154                  NaN    3     1       Ride The Lightning  1875   \n",
      "2      154                  NaN    3     1  For Whom The Bell Tolls  1876   \n",
      "3      154                  NaN    3     1            Fade To Black  1877   \n",
      "4      154                  NaN    3     1        Trapped Under Ice  1878   \n",
      "0      155                  NaN    3     1                  Frantic  1882   \n",
      "1      155                  NaN    3     1                St. Anger  1883   \n",
      "2      155                  NaN    3     1     Some Kind Of Monster  1884   \n",
      "3      155                  NaN    3     1             Dirty Window  1885   \n",
      "4      155                  NaN    3     1            Invisible Kid  1886   \n",
      "\n",
      "       u_price  \n",
      "index           \n",
      "0         0.99  \n",
      "1         0.99  \n",
      "4         0.99  \n",
      "0         0.99  \n",
      "1         0.99  \n",
      "2         0.99  \n",
      "3         0.99  \n",
      "4         0.99  \n",
      "0         0.99  \n",
      "1         0.99  \n",
      "2         0.99  \n",
      "3         0.99  \n",
      "4         0.99  \n"
     ]
    }
   ],
   "source": [
    "# Concatenate the tracks\n",
    "tracks_from_albums = pd.concat([tracks_master,tracks_ride, tracks_st],\n",
    "                               sort=True)\n",
    "print(tracks_from_albums)"
   ]
  },
  {
   "cell_type": "markdown",
   "metadata": {},
   "source": [
    "* Concatenate `tracks_master`, `tracks_ride`, and `tracks_st`, where the index goes from `0 to n-1`.\n"
   ]
  },
  {
   "cell_type": "code",
   "execution_count": 11,
   "metadata": {},
   "outputs": [
    {
     "name": "stdout",
     "output_type": "stream",
     "text": [
      "    aid             composer  gid  mtid                     name   tid  \\\n",
      "0   152  J.Hetfield/L.Ulrich    3     1                  Battery  1853   \n",
      "1   152            K.Hammett    3     1        Master Of Puppets  1854   \n",
      "2   152  J.Hetfield/L.Ulrich    3     1        Disposable Heroes  1857   \n",
      "3   154                  NaN    3     1     Fight Fire With Fire  1874   \n",
      "4   154                  NaN    3     1       Ride The Lightning  1875   \n",
      "5   154                  NaN    3     1  For Whom The Bell Tolls  1876   \n",
      "6   154                  NaN    3     1            Fade To Black  1877   \n",
      "7   154                  NaN    3     1        Trapped Under Ice  1878   \n",
      "8   155                  NaN    3     1                  Frantic  1882   \n",
      "9   155                  NaN    3     1                St. Anger  1883   \n",
      "10  155                  NaN    3     1     Some Kind Of Monster  1884   \n",
      "11  155                  NaN    3     1             Dirty Window  1885   \n",
      "12  155                  NaN    3     1            Invisible Kid  1886   \n",
      "\n",
      "    u_price  \n",
      "0      0.99  \n",
      "1      0.99  \n",
      "2      0.99  \n",
      "3      0.99  \n",
      "4      0.99  \n",
      "5      0.99  \n",
      "6      0.99  \n",
      "7      0.99  \n",
      "8      0.99  \n",
      "9      0.99  \n",
      "10     0.99  \n",
      "11     0.99  \n",
      "12     0.99  \n"
     ]
    }
   ],
   "source": [
    "# Concatenate the tracks so the index goes from 0 to n-1\n",
    "tracks_from_albums = pd.concat([tracks_master, tracks_ride, tracks_st],\n",
    "                                ignore_index=True,\n",
    "                               sort=True)\n",
    "print(tracks_from_albums)"
   ]
  },
  {
   "cell_type": "markdown",
   "metadata": {},
   "source": [
    "* Concatenate `tracks_master`, `tracks_ride`, and `tracks_st`, showing only columns that are in all tables."
   ]
  },
  {
   "cell_type": "code",
   "execution_count": 12,
   "metadata": {},
   "outputs": [
    {
     "name": "stdout",
     "output_type": "stream",
     "text": [
      "       aid  gid  mtid                     name   tid  u_price\n",
      "index                                                        \n",
      "0      152    3     1                  Battery  1853     0.99\n",
      "1      152    3     1        Master Of Puppets  1854     0.99\n",
      "4      152    3     1        Disposable Heroes  1857     0.99\n",
      "0      154    3     1     Fight Fire With Fire  1874     0.99\n",
      "1      154    3     1       Ride The Lightning  1875     0.99\n",
      "2      154    3     1  For Whom The Bell Tolls  1876     0.99\n",
      "3      154    3     1            Fade To Black  1877     0.99\n",
      "4      154    3     1        Trapped Under Ice  1878     0.99\n",
      "0      155    3     1                  Frantic  1882     0.99\n",
      "1      155    3     1                St. Anger  1883     0.99\n",
      "2      155    3     1     Some Kind Of Monster  1884     0.99\n",
      "3      155    3     1             Dirty Window  1885     0.99\n",
      "4      155    3     1            Invisible Kid  1886     0.99\n"
     ]
    }
   ],
   "source": [
    "# Concatenate the tracks, show only columns names that are in all tables\n",
    "tracks_from_albums = pd.concat([tracks_master, tracks_ride, tracks_st],\n",
    "                               join='inner',\n",
    "                               sort=True)\n",
    "print(tracks_from_albums)"
   ]
  },
  {
   "cell_type": "markdown",
   "metadata": {},
   "source": [
    "### 04-Concatenating with keys\n",
    "\n",
    "You have been given three tables with invoice data named `inv_jul`, `inv_aug`, and `inv_sep`. Concatenate these tables into one to create a graph of the average monthly invoice total.\n",
    "\n",
    "* Concatenate the three tables together vertically in order with the oldest month first, adding `'7Jul'`, `'8Aug'`, and `'9Sep'` as keys for their respective months, and save to variable `avg_inv_by_month`.\n",
    "* Use the `.agg()` method to find the average of the `total` column from the grouped invoices.\n",
    "* Create a bar chart of `avg_inv_by_month`."
   ]
  },
  {
   "cell_type": "code",
   "execution_count": 27,
   "metadata": {},
   "outputs": [
    {
     "name": "stdout",
     "output_type": "stream",
     "text": [
      "(35, 5)\n",
      "(35, 5)\n",
      "(33, 5)\n"
     ]
    }
   ],
   "source": [
    "import matplotlib.pyplot as plt \n",
    "\n",
    "with open(\"dataset/inv_jul.csv\", \"rb\") as f1, open(\"dataset/inv_aug.csv\", \"rb\") as f2, open(\"dataset/inv_sep.csv\", \"rb\") as f3:\n",
    "    inv_jul = pd.read_csv(f1)\n",
    "    inv_aug = pd.read_csv(f2)\n",
    "    inv_sep = pd.read_csv(f3)\n",
    "\n",
    "\n",
    "print(inv_jul.shape)\n",
    "print(inv_aug.shape)\n",
    "print(inv_sep.shape)"
   ]
  },
  {
   "cell_type": "code",
   "execution_count": 28,
   "metadata": {},
   "outputs": [
    {
     "data": {
      "text/html": [
       "<div>\n",
       "<style scoped>\n",
       "    .dataframe tbody tr th:only-of-type {\n",
       "        vertical-align: middle;\n",
       "    }\n",
       "\n",
       "    .dataframe tbody tr th {\n",
       "        vertical-align: top;\n",
       "    }\n",
       "\n",
       "    .dataframe thead th {\n",
       "        text-align: right;\n",
       "    }\n",
       "</style>\n",
       "<table border=\"1\" class=\"dataframe\">\n",
       "  <thead>\n",
       "    <tr style=\"text-align: right;\">\n",
       "      <th></th>\n",
       "      <th></th>\n",
       "      <th>iid</th>\n",
       "      <th>cid</th>\n",
       "      <th>invoice_date</th>\n",
       "      <th>total</th>\n",
       "      <th>bill_ctry</th>\n",
       "    </tr>\n",
       "  </thead>\n",
       "  <tbody>\n",
       "    <tr>\n",
       "      <th rowspan=\"5\" valign=\"top\">7Jul</th>\n",
       "      <th>0</th>\n",
       "      <td>42</td>\n",
       "      <td>51</td>\n",
       "      <td>7/6/2009</td>\n",
       "      <td>1.98</td>\n",
       "      <td>Sweden</td>\n",
       "    </tr>\n",
       "    <tr>\n",
       "      <th>1</th>\n",
       "      <td>43</td>\n",
       "      <td>53</td>\n",
       "      <td>7/6/2009</td>\n",
       "      <td>1.98</td>\n",
       "      <td>UK</td>\n",
       "    </tr>\n",
       "    <tr>\n",
       "      <th>2</th>\n",
       "      <td>44</td>\n",
       "      <td>55</td>\n",
       "      <td>7/7/2009</td>\n",
       "      <td>3.96</td>\n",
       "      <td>Australia</td>\n",
       "    </tr>\n",
       "    <tr>\n",
       "      <th>3</th>\n",
       "      <td>45</td>\n",
       "      <td>59</td>\n",
       "      <td>7/8/2009</td>\n",
       "      <td>5.94</td>\n",
       "      <td>India</td>\n",
       "    </tr>\n",
       "    <tr>\n",
       "      <th>4</th>\n",
       "      <td>46</td>\n",
       "      <td>6</td>\n",
       "      <td>7/11/2009</td>\n",
       "      <td>8.91</td>\n",
       "      <td>Czech Republic</td>\n",
       "    </tr>\n",
       "    <tr>\n",
       "      <th>...</th>\n",
       "      <th>...</th>\n",
       "      <td>...</td>\n",
       "      <td>...</td>\n",
       "      <td>...</td>\n",
       "      <td>...</td>\n",
       "      <td>...</td>\n",
       "    </tr>\n",
       "    <tr>\n",
       "      <th rowspan=\"5\" valign=\"top\">9Sep</th>\n",
       "      <th>28</th>\n",
       "      <td>387</td>\n",
       "      <td>29</td>\n",
       "      <td>9/3/2013</td>\n",
       "      <td>3.96</td>\n",
       "      <td>Canada</td>\n",
       "    </tr>\n",
       "    <tr>\n",
       "      <th>29</th>\n",
       "      <td>388</td>\n",
       "      <td>33</td>\n",
       "      <td>9/4/2013</td>\n",
       "      <td>5.94</td>\n",
       "      <td>Canada</td>\n",
       "    </tr>\n",
       "    <tr>\n",
       "      <th>30</th>\n",
       "      <td>389</td>\n",
       "      <td>39</td>\n",
       "      <td>9/7/2013</td>\n",
       "      <td>8.91</td>\n",
       "      <td>France</td>\n",
       "    </tr>\n",
       "    <tr>\n",
       "      <th>31</th>\n",
       "      <td>390</td>\n",
       "      <td>48</td>\n",
       "      <td>9/12/2013</td>\n",
       "      <td>13.86</td>\n",
       "      <td>Netherlands</td>\n",
       "    </tr>\n",
       "    <tr>\n",
       "      <th>32</th>\n",
       "      <td>391</td>\n",
       "      <td>3</td>\n",
       "      <td>9/20/2013</td>\n",
       "      <td>0.99</td>\n",
       "      <td>Canada</td>\n",
       "    </tr>\n",
       "  </tbody>\n",
       "</table>\n",
       "<p>103 rows × 5 columns</p>\n",
       "</div>"
      ],
      "text/plain": [
       "         iid  cid invoice_date  total       bill_ctry\n",
       "7Jul 0    42   51     7/6/2009   1.98          Sweden\n",
       "     1    43   53     7/6/2009   1.98              UK\n",
       "     2    44   55     7/7/2009   3.96       Australia\n",
       "     3    45   59     7/8/2009   5.94           India\n",
       "     4    46    6    7/11/2009   8.91  Czech Republic\n",
       "...      ...  ...          ...    ...             ...\n",
       "9Sep 28  387   29     9/3/2013   3.96          Canada\n",
       "     29  388   33     9/4/2013   5.94          Canada\n",
       "     30  389   39     9/7/2013   8.91          France\n",
       "     31  390   48    9/12/2013  13.86     Netherlands\n",
       "     32  391    3    9/20/2013   0.99          Canada\n",
       "\n",
       "[103 rows x 5 columns]"
      ]
     },
     "execution_count": 28,
     "metadata": {},
     "output_type": "execute_result"
    }
   ],
   "source": [
    "# Concatenate the tables and add keys\n",
    "inv_jul_thr_sep = pd.concat([inv_jul, inv_aug, inv_sep], \n",
    "                            keys=['7Jul', '8Aug', '9Sep'])\n",
    "inv_jul_thr_sep"
   ]
  },
  {
   "cell_type": "code",
   "execution_count": 31,
   "metadata": {},
   "outputs": [
    {
     "name": "stdout",
     "output_type": "stream",
     "text": [
      "         total\n",
      "7Jul  5.431429\n",
      "8Aug  5.660000\n",
      "9Sep  5.945455\n"
     ]
    },
    {
     "data": {
      "image/png": "[encoded data removed]",
      "text/plain": [
       "<Figure size 432x288 with 1 Axes>"
      ]
     },
     "metadata": {
      "needs_background": "light"
     },
     "output_type": "display_data"
    }
   ],
   "source": [
    "# Concatenate the tables and add keys\n",
    "inv_jul_thr_sep = pd.concat([inv_jul, inv_aug, inv_sep], \n",
    "                            keys=['7Jul', '8Aug', '9Sep'])\n",
    "\n",
    "# Group the invoices by the index keys and find avg of the total column\n",
    "avg_inv_by_month = inv_jul_thr_sep.groupby(level=0).agg({'total':'mean'})\n",
    "print(avg_inv_by_month)\n",
    "\n",
    "# Bar plot of avg_inv_by_month\n",
    "avg_inv_by_month.plot(kind=\"bar\")\n",
    "plt.show()"
   ]
  },
  {
   "cell_type": "markdown",
   "metadata": {},
   "source": [
    "### 05-Using the append method\n",
    "\n",
    "\n",
    "* Use the `.append()` method to combine (in this order) `tracks_ride`, `tracks_master`, and `tracks_st` together vertically, and save to `metallica_tracks`.\n",
    "\n",
    "* Merge `metallica_tracks` and `invoice_items` on `tid` with an inner join, and save to `tracks_invoices`.\n",
    "\n",
    "* For each `tid` and `name` in `tracks_invoices`, sum the quantity sold column, and save as `tracks_sold`.\n",
    "Sort `tracks_sold` in descending order by the `quantity` column, and print the table."
   ]
  },
  {
   "cell_type": "code",
   "execution_count": 34,
   "metadata": {},
   "outputs": [],
   "source": [
    "with open(\"dataset/invoice_items.csv\", \"rb\") as f:\n",
    "    invoice_items = pd.read_csv(f)"
   ]
  },
  {
   "cell_type": "code",
   "execution_count": 50,
   "metadata": {},
   "outputs": [
    {
     "name": "stdout",
     "output_type": "stream",
     "text": [
      "                              quantity\n",
      "tid  name                             \n",
      "1853 Battery                         2\n",
      "1876 For Whom The Bell Tolls         2\n",
      "1854 Master Of Puppets               1\n",
      "1857 Disposable Heroes               1\n",
      "1875 Ride The Lightning              1\n",
      "1877 Fade To Black                   1\n",
      "1882 Frantic                         1\n",
      "1884 Some Kind Of Monster            1\n",
      "1886 Invisible Kid                   1\n"
     ]
    }
   ],
   "source": [
    "# Use the .append() method to combine the tracks tables\n",
    "metallica_tracks = tracks_ride.append([tracks_master, tracks_st], sort=False)\n",
    "\n",
    "# Merge metallica_tracks and invoice_items\n",
    "tracks_invoices = metallica_tracks.merge(invoice_items, on='tid', how='inner')\n",
    "\n",
    "# For each tid and name sum the quantity sold\n",
    "tracks_sold = tracks_invoices.groupby(['tid','name']).agg({'quantity':'sum'})\n",
    "\n",
    "# Sort in decending order by quantity and print the results\n",
    "print(tracks_sold.sort_values('quantity', ascending=False))"
   ]
  },
  {
   "cell_type": "markdown",
   "metadata": {},
   "source": [
    "### 06- Concatenate and merge to find common songs\n",
    "\n",
    "* Concatenate the `classic_18` and `classic_19` tables vertically where the index goes from 0 to n-1, and save to `classic_18_19`.\n"
   ]
  },
  {
   "cell_type": "code",
   "execution_count": 52,
   "metadata": {},
   "outputs": [],
   "source": [
    "with open(\"dataset/classic_18.csv\", \"rb\") as f1, open(\"dataset/classic_19.csv\", \"rb\") as f2:\n",
    "    classic_18 = pd.read_csv(f1)\n",
    "    classic_19 = pd.read_csv(f2)"
   ]
  },
  {
   "cell_type": "code",
   "execution_count": 55,
   "metadata": {},
   "outputs": [],
   "source": [
    "# Concatenate the classic tables vertically\n",
    "classic_18_19 = pd.concat([classic_18,classic_19], ignore_index=True, verify_integrity=False)"
   ]
  },
  {
   "cell_type": "markdown",
   "metadata": {},
   "source": [
    "* Concatenate the `pop_18` and `pop_19` tables vertically where the index goes from 0 to n-1, and save to `pop_18_19`.\n"
   ]
  },
  {
   "cell_type": "code",
   "execution_count": 53,
   "metadata": {},
   "outputs": [],
   "source": [
    "with open(\"dataset/pop_18.csv\", \"rb\") as f1, open(\"dataset/pop_19.csv\", \"rb\") as f2:\n",
    "    pop_18 = pd.read_csv(f1)\n",
    "    pop_19 = pd.read_csv(f2)"
   ]
  },
  {
   "cell_type": "code",
   "execution_count": 54,
   "metadata": {},
   "outputs": [],
   "source": [
    "# Concatenate the pop tables vertically\n",
    "pop_18_19 =  pd.concat([pop_18,pop_19], ignore_index=True, verify_integrity=False)"
   ]
  },
  {
   "cell_type": "markdown",
   "metadata": {},
   "source": [
    "* With `classic_18_19` on the left, merge it with `pop_18_19` on `tid` using an inner join.\n",
    "* Use `.isin()` to filter `classic_18_19` where `tid` is in `classic_pop`."
   ]
  },
  {
   "cell_type": "code",
   "execution_count": 56,
   "metadata": {},
   "outputs": [
    {
     "name": "stdout",
     "output_type": "stream",
     "text": [
      "    Unnamed: 0  pid   tid\n",
      "3         8523   12  3479\n",
      "10        8557   12  3439\n",
      "21        8563   12  3445\n",
      "23        8567   12  3449\n",
      "48        8555   12  3437\n",
      "50        8553   12  3435\n"
     ]
    }
   ],
   "source": [
    "# Concatenate the classic tables vertically\n",
    "classic_18_19 = pd.concat([classic_18, classic_19], ignore_index=True)\n",
    "\n",
    "# Concatenate the pop tables vertically\n",
    "pop_18_19 = pd.concat([pop_18, pop_19], ignore_index=True)\n",
    "\n",
    "# Merge classic_18_19 with pop_18_19\n",
    "classic_pop = classic_18_19.merge(pop_18_19, on=\"tid\", how='inner')\n",
    "\n",
    "# Using .isin(), filter classic_18_19 rows where tid is in classic_pop\n",
    "popular_classic = classic_18_19[classic_18_19[\"tid\"].isin(classic_pop[\"tid\"])]\n",
    "\n",
    "# Print popular chart\n",
    "print(popular_classic)"
   ]
  },
  {
   "cell_type": "markdown",
   "metadata": {},
   "source": [
    "==================================\n",
    "### `The End`\n",
    "=================================="
   ]
  }
 ],
 "metadata": {
  "interpreter": {
   "hash": "375c74fd8c11b85bdfdf0d0a51867cc40572443e91947231b688f7b7116ba890"
  },
  "kernelspec": {
   "display_name": "Python 3.6.8 64-bit",
   "language": "python",
   "name": "python3"
  },
  "language_info": {
   "codemirror_mode": {
    "name": "ipython",
    "version": 3
   },
   "file_extension": ".py",
   "mimetype": "text/x-python",
   "name": "python",
   "nbconvert_exporter": "python",
   "pygments_lexer": "ipython3",
   "version": "3.6.8"
  },
  "orig_nbformat": 4
 },
 "nbformat": 4,
 "nbformat_minor": 2
}
