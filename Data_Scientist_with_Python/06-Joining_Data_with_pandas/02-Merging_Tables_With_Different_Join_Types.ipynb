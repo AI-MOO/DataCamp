{
 "cells": [
  {
   "cell_type": "markdown",
   "metadata": {},
   "source": [
    "## `Section 02: Merging Tables With Different Join Types`\n"
   ]
  },
  {
   "cell_type": "markdown",
   "metadata": {},
   "source": [
    "### 01- Counting missing rows with left join\n",
    "\n",
    "* Merge the `movies` table, as the left table, with the `financials` table using a left join, and save the result to `movies_financials`.\n",
    "\n"
   ]
  },
  {
   "cell_type": "code",
   "execution_count": 1,
   "metadata": {},
   "outputs": [],
   "source": [
    "import pickle\n",
    "\n",
    "with open('dataset/movies.p', 'rb') as f1, open('dataset/financials.p', 'rb') as f2:\n",
    "    movies = pickle.load(f1)\n",
    "    financials = pickle.load(f2)"
   ]
  },
  {
   "cell_type": "code",
   "execution_count": 2,
   "metadata": {},
   "outputs": [
    {
     "data": {
      "text/html": [
       "<div>\n",
       "<style scoped>\n",
       "    .dataframe tbody tr th:only-of-type {\n",
       "        vertical-align: middle;\n",
       "    }\n",
       "\n",
       "    .dataframe tbody tr th {\n",
       "        vertical-align: top;\n",
       "    }\n",
       "\n",
       "    .dataframe thead th {\n",
       "        text-align: right;\n",
       "    }\n",
       "</style>\n",
       "<table border=\"1\" class=\"dataframe\">\n",
       "  <thead>\n",
       "    <tr style=\"text-align: right;\">\n",
       "      <th></th>\n",
       "      <th>id</th>\n",
       "      <th>title</th>\n",
       "      <th>popularity</th>\n",
       "      <th>release_date</th>\n",
       "      <th>budget</th>\n",
       "      <th>revenue</th>\n",
       "    </tr>\n",
       "  </thead>\n",
       "  <tbody>\n",
       "    <tr>\n",
       "      <th>0</th>\n",
       "      <td>257</td>\n",
       "      <td>Oliver Twist</td>\n",
       "      <td>20.415572</td>\n",
       "      <td>2005-09-23</td>\n",
       "      <td>50000000.0</td>\n",
       "      <td>42093706.0</td>\n",
       "    </tr>\n",
       "    <tr>\n",
       "      <th>1</th>\n",
       "      <td>14290</td>\n",
       "      <td>Better Luck Tomorrow</td>\n",
       "      <td>3.877036</td>\n",
       "      <td>2002-01-12</td>\n",
       "      <td>NaN</td>\n",
       "      <td>NaN</td>\n",
       "    </tr>\n",
       "    <tr>\n",
       "      <th>2</th>\n",
       "      <td>38365</td>\n",
       "      <td>Grown Ups</td>\n",
       "      <td>38.864027</td>\n",
       "      <td>2010-06-24</td>\n",
       "      <td>80000000.0</td>\n",
       "      <td>271430189.0</td>\n",
       "    </tr>\n",
       "    <tr>\n",
       "      <th>3</th>\n",
       "      <td>9672</td>\n",
       "      <td>Infamous</td>\n",
       "      <td>3.680896</td>\n",
       "      <td>2006-11-16</td>\n",
       "      <td>13000000.0</td>\n",
       "      <td>1151330.0</td>\n",
       "    </tr>\n",
       "    <tr>\n",
       "      <th>4</th>\n",
       "      <td>12819</td>\n",
       "      <td>Alpha and Omega</td>\n",
       "      <td>12.300789</td>\n",
       "      <td>2010-09-17</td>\n",
       "      <td>20000000.0</td>\n",
       "      <td>39300000.0</td>\n",
       "    </tr>\n",
       "    <tr>\n",
       "      <th>...</th>\n",
       "      <td>...</td>\n",
       "      <td>...</td>\n",
       "      <td>...</td>\n",
       "      <td>...</td>\n",
       "      <td>...</td>\n",
       "      <td>...</td>\n",
       "    </tr>\n",
       "    <tr>\n",
       "      <th>4798</th>\n",
       "      <td>3089</td>\n",
       "      <td>Red River</td>\n",
       "      <td>5.344815</td>\n",
       "      <td>1948-08-26</td>\n",
       "      <td>3000000.0</td>\n",
       "      <td>9012000.0</td>\n",
       "    </tr>\n",
       "    <tr>\n",
       "      <th>4799</th>\n",
       "      <td>11934</td>\n",
       "      <td>The Hudsucker Proxy</td>\n",
       "      <td>14.188982</td>\n",
       "      <td>1994-03-11</td>\n",
       "      <td>NaN</td>\n",
       "      <td>NaN</td>\n",
       "    </tr>\n",
       "    <tr>\n",
       "      <th>4800</th>\n",
       "      <td>13807</td>\n",
       "      <td>Exiled</td>\n",
       "      <td>8.486390</td>\n",
       "      <td>2006-09-06</td>\n",
       "      <td>NaN</td>\n",
       "      <td>NaN</td>\n",
       "    </tr>\n",
       "    <tr>\n",
       "      <th>4801</th>\n",
       "      <td>73873</td>\n",
       "      <td>Albert Nobbs</td>\n",
       "      <td>7.802245</td>\n",
       "      <td>2011-12-21</td>\n",
       "      <td>8000000.0</td>\n",
       "      <td>5634828.0</td>\n",
       "    </tr>\n",
       "    <tr>\n",
       "      <th>4802</th>\n",
       "      <td>11622</td>\n",
       "      <td>Blast from the Past</td>\n",
       "      <td>8.737058</td>\n",
       "      <td>1999-02-12</td>\n",
       "      <td>35000000.0</td>\n",
       "      <td>40263020.0</td>\n",
       "    </tr>\n",
       "  </tbody>\n",
       "</table>\n",
       "<p>4803 rows × 6 columns</p>\n",
       "</div>"
      ],
      "text/plain": [
       "         id                 title  popularity release_date      budget  \\\n",
       "0       257          Oliver Twist   20.415572   2005-09-23  50000000.0   \n",
       "1     14290  Better Luck Tomorrow    3.877036   2002-01-12         NaN   \n",
       "2     38365             Grown Ups   38.864027   2010-06-24  80000000.0   \n",
       "3      9672              Infamous    3.680896   2006-11-16  13000000.0   \n",
       "4     12819       Alpha and Omega   12.300789   2010-09-17  20000000.0   \n",
       "...     ...                   ...         ...          ...         ...   \n",
       "4798   3089             Red River    5.344815   1948-08-26   3000000.0   \n",
       "4799  11934   The Hudsucker Proxy   14.188982   1994-03-11         NaN   \n",
       "4800  13807                Exiled    8.486390   2006-09-06         NaN   \n",
       "4801  73873          Albert Nobbs    7.802245   2011-12-21   8000000.0   \n",
       "4802  11622   Blast from the Past    8.737058   1999-02-12  35000000.0   \n",
       "\n",
       "          revenue  \n",
       "0      42093706.0  \n",
       "1             NaN  \n",
       "2     271430189.0  \n",
       "3       1151330.0  \n",
       "4      39300000.0  \n",
       "...           ...  \n",
       "4798    9012000.0  \n",
       "4799          NaN  \n",
       "4800          NaN  \n",
       "4801    5634828.0  \n",
       "4802   40263020.0  \n",
       "\n",
       "[4803 rows x 6 columns]"
      ]
     },
     "execution_count": 2,
     "metadata": {},
     "output_type": "execute_result"
    }
   ],
   "source": [
    "# Merge movies and financials with a left join\n",
    "movies_financials = movies.merge(financials, on=\"id\", how=\"left\")\n",
    "movies_financials"
   ]
  },
  {
   "cell_type": "markdown",
   "metadata": {},
   "source": [
    "* Count the number of rows in `movies_financials` with a null value in the `budget` column."
   ]
  },
  {
   "cell_type": "code",
   "execution_count": 3,
   "metadata": {},
   "outputs": [
    {
     "name": "stdout",
     "output_type": "stream",
     "text": [
      "1574\n"
     ]
    }
   ],
   "source": [
    "# Merge the movies table with the financials table with a left join\n",
    "movies_financials = movies.merge(financials, on='id', how='left')\n",
    "\n",
    "# Count the number of rows in the budget column that are missing\n",
    "number_of_missing_fin = movies_financials['budget'].isna().sum()\n",
    "\n",
    "# Print the number of movies missing financials\n",
    "print(number_of_missing_fin)"
   ]
  },
  {
   "cell_type": "markdown",
   "metadata": {},
   "source": [
    "### 02-Enriching a dataset\n",
    "\n",
    "* Merge `toy_story` and `taglines` on the `id` column with a left join, and save the result as `toystory_tag`.\n",
    "\n"
   ]
  },
  {
   "cell_type": "code",
   "execution_count": 4,
   "metadata": {},
   "outputs": [
    {
     "data": {
      "text/html": [
       "<div>\n",
       "<style scoped>\n",
       "    .dataframe tbody tr th:only-of-type {\n",
       "        vertical-align: middle;\n",
       "    }\n",
       "\n",
       "    .dataframe tbody tr th {\n",
       "        vertical-align: top;\n",
       "    }\n",
       "\n",
       "    .dataframe thead th {\n",
       "        text-align: right;\n",
       "    }\n",
       "</style>\n",
       "<table border=\"1\" class=\"dataframe\">\n",
       "  <thead>\n",
       "    <tr style=\"text-align: right;\">\n",
       "      <th></th>\n",
       "      <th>id</th>\n",
       "      <th>title</th>\n",
       "      <th>popularity</th>\n",
       "      <th>release_date</th>\n",
       "    </tr>\n",
       "  </thead>\n",
       "  <tbody>\n",
       "    <tr>\n",
       "      <th>0</th>\n",
       "      <td>10193</td>\n",
       "      <td>Toy Story 3</td>\n",
       "      <td>59.995</td>\n",
       "      <td>2010-06-16</td>\n",
       "    </tr>\n",
       "    <tr>\n",
       "      <th>1</th>\n",
       "      <td>863</td>\n",
       "      <td>Toy Story 2</td>\n",
       "      <td>73.575</td>\n",
       "      <td>1999-10-30</td>\n",
       "    </tr>\n",
       "    <tr>\n",
       "      <th>2</th>\n",
       "      <td>862</td>\n",
       "      <td>Toy Story</td>\n",
       "      <td>73.640</td>\n",
       "      <td>1995-10-30</td>\n",
       "    </tr>\n",
       "  </tbody>\n",
       "</table>\n",
       "</div>"
      ],
      "text/plain": [
       "      id        title  popularity release_date\n",
       "0  10193  Toy Story 3      59.995   2010-06-16\n",
       "1    863  Toy Story 2      73.575   1999-10-30\n",
       "2    862    Toy Story      73.640   1995-10-30"
      ]
     },
     "execution_count": 4,
     "metadata": {},
     "output_type": "execute_result"
    }
   ],
   "source": [
    "import pandas as pd \n",
    "toy_story_dict = {\"id\":[10193, 863, 862], \"title\":[\"Toy Story 3\", \"Toy Story 2\", \"Toy Story\"], \n",
    "                    \"popularity\":[59.995, 73.575, 73.640], \n",
    "                    \"release_date\":[\"2010-06-16\", \"1999-10-30\", \"1995-10-30\"]} \n",
    "\n",
    "toy_story = pd.DataFrame(toy_story_dict)\n",
    "toy_story"
   ]
  },
  {
   "cell_type": "code",
   "execution_count": 5,
   "metadata": {},
   "outputs": [],
   "source": [
    "with open('dataset/taglines.p', 'rb') as f1:\n",
    "    taglines = pickle.load(f1) "
   ]
  },
  {
   "cell_type": "code",
   "execution_count": 6,
   "metadata": {},
   "outputs": [
    {
     "name": "stdout",
     "output_type": "stream",
     "text": [
      "      id        title  popularity release_date                   tagline\n",
      "0  10193  Toy Story 3      59.995   2010-06-16  No toy gets left behind.\n",
      "1    863  Toy Story 2      73.575   1999-10-30        The toys are back!\n",
      "2    862    Toy Story      73.640   1995-10-30                       NaN\n",
      "(3, 5)\n"
     ]
    }
   ],
   "source": [
    "# Merge the toy_story and taglines tables with a left join\n",
    "toystory_tag = toy_story.merge(taglines, on=\"id\", how=\"left\")\n",
    "\n",
    "# Print the rows and shape of toystory_tag\n",
    "print(toystory_tag)\n",
    "print(toystory_tag.shape)"
   ]
  },
  {
   "cell_type": "markdown",
   "metadata": {},
   "source": [
    "* With `toy_story` as the left table, merge to it `taglines` on the `id` column with an inner join, and save as `toystory_tag`.\n",
    "\n"
   ]
  },
  {
   "cell_type": "code",
   "execution_count": 7,
   "metadata": {},
   "outputs": [
    {
     "name": "stdout",
     "output_type": "stream",
     "text": [
      "      id        title  popularity release_date                   tagline\n",
      "0  10193  Toy Story 3      59.995   2010-06-16  No toy gets left behind.\n",
      "1    863  Toy Story 2      73.575   1999-10-30        The toys are back!\n",
      "(2, 5)\n"
     ]
    }
   ],
   "source": [
    "# Merge the toy_story and taglines tables with a inner join\n",
    "toystory_tag = toy_story.merge(taglines, on=\"id\", how=\"inner\")\n",
    "\n",
    "# Print the rows and shape of toystory_tag\n",
    "print(toystory_tag)\n",
    "print(toystory_tag.shape)"
   ]
  },
  {
   "cell_type": "markdown",
   "metadata": {},
   "source": [
    "### 03- Right join to find unique movies\n",
    "\n",
    "* Merge `action_movies` and `scifi_movies` tables with a right join on `movie_id`. Save the result as `action_scifi`.\n",
    "\n",
    "\n"
   ]
  },
  {
   "cell_type": "code",
   "execution_count": 8,
   "metadata": {},
   "outputs": [],
   "source": [
    "with  open('dataset/movies.p', 'rb') as f1, open('dataset/movie_to_genres.p', 'rb') as f2:\n",
    "    movies = pickle.load(f1)\n",
    "    movies_genres = pickle.load(f2)\n",
    "\n",
    "scifi_movies = movies_genres[movies_genres[\"genre\"] == \"Science Fiction\"]\n",
    "action_movies = movies_genres[movies_genres[\"genre\"] == \"Action\"]"
   ]
  },
  {
   "cell_type": "code",
   "execution_count": 9,
   "metadata": {},
   "outputs": [],
   "source": [
    "# Merge action_movies to scifi_movies with right join\n",
    "action_scifi = action_movies.merge(scifi_movies, on= \"movie_id\", how=\"right\")"
   ]
  },
  {
   "cell_type": "markdown",
   "metadata": {},
   "source": [
    "* Update the merge to add suffixes, where `'_act'` and `'_sci'` are suffixes for the left and right tables, respectively.\n",
    "\n"
   ]
  },
  {
   "cell_type": "code",
   "execution_count": 10,
   "metadata": {},
   "outputs": [
    {
     "name": "stdout",
     "output_type": "stream",
     "text": [
      "   movie_id genre_act        genre_sci\n",
      "0        11    Action  Science Fiction\n",
      "1        18    Action  Science Fiction\n",
      "2        19       NaN  Science Fiction\n",
      "3        38       NaN  Science Fiction\n",
      "4        62       NaN  Science Fiction\n"
     ]
    }
   ],
   "source": [
    "# Merge action_movies to scifi_movies with right join\n",
    "action_scifi = action_movies.merge(scifi_movies, on='movie_id', how='right',\n",
    "                                   suffixes=['_act', '_sci'])\n",
    "\n",
    "# Print the first few rows of action_scifi to see the structure\n",
    "print(action_scifi.head())"
   ]
  },
  {
   "cell_type": "markdown",
   "metadata": {},
   "source": [
    "* From `action_scifi`, subset only the rows where the `genre_act` column is null.\n",
    "\n"
   ]
  },
  {
   "cell_type": "code",
   "execution_count": 11,
   "metadata": {},
   "outputs": [],
   "source": [
    "# Merge action_movies to the scifi_movies with right join\n",
    "action_scifi = action_movies.merge(scifi_movies, on='movie_id', how='right',\n",
    "                                   suffixes=('_act','_sci'))\n",
    "\n",
    "# From action_scifi, select only the rows where the genre_act column is null\n",
    "scifi_only = action_scifi[action_scifi[\"genre_act\"].isna()]"
   ]
  },
  {
   "cell_type": "markdown",
   "metadata": {},
   "source": [
    "* Merge `movies` and `scifi_only` using the `id` column in the left table and the `movie_id` column in the right table with an inner join.\n",
    "\n"
   ]
  },
  {
   "cell_type": "code",
   "execution_count": 12,
   "metadata": {},
   "outputs": [
    {
     "name": "stdout",
     "output_type": "stream",
     "text": [
      "      id                         title  popularity release_date  movie_id  \\\n",
      "0  18841  The Lost Skeleton of Cadavra    1.680525   2001-09-12     18841   \n",
      "1  26672     The Thief and the Cobbler    2.439184   1993-09-23     26672   \n",
      "2  15301      Twilight Zone: The Movie   12.902975   1983-06-24     15301   \n",
      "3   8452                   The 6th Day   18.447479   2000-11-17      8452   \n",
      "4   1649    Bill & Ted's Bogus Journey   11.349664   1991-07-19      1649   \n",
      "\n",
      "  genre_act        genre_sci  \n",
      "0       NaN  Science Fiction  \n",
      "1       NaN  Science Fiction  \n",
      "2       NaN  Science Fiction  \n",
      "3       NaN  Science Fiction  \n",
      "4       NaN  Science Fiction  \n",
      "(258, 7)\n"
     ]
    }
   ],
   "source": [
    "# Merge action_movies to the scifi_movies with right join\n",
    "action_scifi = action_movies.merge(scifi_movies, on='movie_id', how='right',\n",
    "                                   suffixes=('_act','_sci'))\n",
    "\n",
    "# From action_scifi, select only the rows where the genre_act column is null\n",
    "scifi_only = action_scifi[action_scifi['genre_act'].isnull()]\n",
    "\n",
    "# Merge the movies and scifi_only tables with an inner join\n",
    "movies_and_scifi_only = movies.merge(scifi_only, how=\"inner\",\n",
    "                                     left_on=\"id\", right_on=\"movie_id\")\n",
    "\n",
    "# Print the first few rows and shape of movies_and_scifi_only\n",
    "print(movies_and_scifi_only.head())\n",
    "print(movies_and_scifi_only.shape)"
   ]
  },
  {
   "cell_type": "markdown",
   "metadata": {},
   "source": [
    "### 04-Popular genres with right join\n",
    "\n",
    "* Merge `movie_to_genres` and `pop_movies` using a right join. Save the results as `genres_movies`.\n",
    "* Group `genres_movies` by `genre` and count the number of `id` values."
   ]
  },
  {
   "cell_type": "code",
   "execution_count": 27,
   "metadata": {},
   "outputs": [],
   "source": [
    "movie_to_genres = movies_genres.copy()"
   ]
  },
  {
   "cell_type": "code",
   "execution_count": 28,
   "metadata": {},
   "outputs": [],
   "source": [
    "pop_movies_dict = {\"id\":[211672, 157336, 293660, 118340, 76341, 135397, 22, 119450, 131631, 177572], \n",
    "                  \"title\":[\"Minions\", \"Interstellar\", \"Deadpool\", \"Guardians of the Galaxy\", \"Mad Max: Fury Road\",\n",
    "                   \"Jurassic World\", \"Pirates of the Caribbean: The Curse of the Bla...\", \"Dawn of the Planet of the Apes\",\n",
    "                   \"The Hunger Games: Mockingjay - Part 1\", \"Big Hero 6\"],\n",
    "                   \"popularity\":[\"875.581\", \"724.248\", \"514.570\", \"481.099\", \"434.279\", \"418.709\", \"271.973\",\n",
    "                                \"243.792\", \"206.227\", \"203.735\"],\n",
    "                   \"release_date\":[\"2015-06-17\", \"2014-11-05\", \"2016-02-09\", \"2014-07-30\", \"2015-05-13\",\n",
    "                                   \"2015-06-09\", \"2003-07-09\", \"2014-06-26\", \"2014-11-18\", \"2014-10-24\" ]\n",
    "                   }\n",
    "pop_movies = pd.DataFrame(pop_movies_dict)"
   ]
  },
  {
   "cell_type": "code",
   "execution_count": 30,
   "metadata": {},
   "outputs": [
    {
     "data": {
      "image/png": "[encoded data removed]",
      "text/plain": [
       "<Figure size 432x288 with 1 Axes>"
      ]
     },
     "metadata": {
      "needs_background": "light"
     },
     "output_type": "display_data"
    }
   ],
   "source": [
    "import matplotlib.pyplot as plt\n",
    "\n",
    "# Use right join to merge the movie_to_genres and pop_movies tables\n",
    "genres_movies = movie_to_genres.merge(pop_movies, how='right', \n",
    "                                      left_on=\"movie_id\", \n",
    "                                      right_on=\"id\")\n",
    "\n",
    "# Count the number of genres\n",
    "genre_count = genres_movies.groupby('genre').agg({'id':'count'})\n",
    "\n",
    "# Plot a bar chart of the genre_count\n",
    "genre_count.plot(kind='bar')\n",
    "plt.show()"
   ]
  },
  {
   "cell_type": "markdown",
   "metadata": {},
   "source": [
    "### 05-Using outer join to select actors\n",
    "\n",
    "* Save to `iron_1_and_2` the merge of `iron_1_actors` (left) with `iron_2_actors` tables with an outer join on the id column, and set suffixes to `('_1','_2')`.\n",
    "* Create an index that returns `True` if `name_1` or `name_2` are null, and `False` otherwise.\n"
   ]
  },
  {
   "cell_type": "code",
   "execution_count": 40,
   "metadata": {},
   "outputs": [],
   "source": [
    "with open('dataset/casts.p', 'rb') as f1:\n",
    "    movie_actors = pickle.load(f1)"
   ]
  },
  {
   "cell_type": "code",
   "execution_count": 51,
   "metadata": {},
   "outputs": [],
   "source": [
    "# # To find actors who don't act in movies \n",
    "\n",
    "# Iron Man 1\n",
    "iron_1_actors = movie_actors[movie_actors['movie_id']==1726]\n",
    "iron_1_actors = iron_1_actors[['character', 'id', 'name']]\n",
    "\n",
    "# Iron Man 2\n",
    "iron_2_actors = movie_actors[movie_actors['movie_id']==10138]\n",
    "iron_2_actors = iron_2_actors[['character', 'id', 'name']]"
   ]
  },
  {
   "cell_type": "code",
   "execution_count": 54,
   "metadata": {},
   "outputs": [
    {
     "name": "stdout",
     "output_type": "stream",
     "text": [
      "                                    character_1      id           name_1  \\\n",
      "0                                        Yinsen   17857       Shaun Toub   \n",
      "2                   Obadiah Stane / Iron Monger    1229     Jeff Bridges   \n",
      "3  Lt. Col. James \"Rhodey\" Rhodes / War Machine   18288  Terrence Howard   \n",
      "5                                          Raza   57452      Faran Tahir   \n",
      "8                                    Abu Bakaar  173810    Sayed Badreya   \n",
      "\n",
      "  character_2 name_2  \n",
      "0         NaN    NaN  \n",
      "2         NaN    NaN  \n",
      "3         NaN    NaN  \n",
      "5         NaN    NaN  \n",
      "8         NaN    NaN  \n"
     ]
    }
   ],
   "source": [
    "# Merge iron_1_actors to iron_2_actors on id with outer join using suffixes\n",
    "iron_1_and_2 = iron_1_actors.merge(iron_2_actors,\n",
    "                                     how=\"outer\",\n",
    "                                     on=\"id\",\n",
    "                                     suffixes=('_1','_2'))\n",
    "\n",
    "# Create an index that returns true if name_1 or name_2 are null\n",
    "m = ((iron_1_and_2['name_1'].isna()) | \n",
    "     (iron_1_and_2['name_2'].isna()))\n",
    "\n",
    "# Print the first few rows of iron_1_and_2\n",
    "print(iron_1_and_2[m].head())"
   ]
  },
  {
   "cell_type": "markdown",
   "metadata": {},
   "source": [
    "### 06-Self Join \n",
    "\n",
    "* To a variable called `crews_self_merged`, merge the `crews` table to itself on the `id` column using an inner join, setting the suffixes to `'_dir'` and `'_crew'` for the left and right tables respectively.\n",
    "\n",
    "\n"
   ]
  },
  {
   "cell_type": "code",
   "execution_count": 62,
   "metadata": {},
   "outputs": [
    {
     "data": {
      "text/html": [
       "<div>\n",
       "<style scoped>\n",
       "    .dataframe tbody tr th:only-of-type {\n",
       "        vertical-align: middle;\n",
       "    }\n",
       "\n",
       "    .dataframe tbody tr th {\n",
       "        vertical-align: top;\n",
       "    }\n",
       "\n",
       "    .dataframe thead th {\n",
       "        text-align: right;\n",
       "    }\n",
       "</style>\n",
       "<table border=\"1\" class=\"dataframe\">\n",
       "  <thead>\n",
       "    <tr style=\"text-align: right;\">\n",
       "      <th></th>\n",
       "      <th>id</th>\n",
       "      <th>department</th>\n",
       "      <th>job</th>\n",
       "      <th>name</th>\n",
       "    </tr>\n",
       "  </thead>\n",
       "  <tbody>\n",
       "    <tr>\n",
       "      <th>0</th>\n",
       "      <td>19995</td>\n",
       "      <td>Editing</td>\n",
       "      <td>Editor</td>\n",
       "      <td>Stephen E. Rivkin</td>\n",
       "    </tr>\n",
       "    <tr>\n",
       "      <th>125</th>\n",
       "      <td>19995</td>\n",
       "      <td>Editing</td>\n",
       "      <td>Digital Intermediate</td>\n",
       "      <td>Marvin Hall</td>\n",
       "    </tr>\n",
       "  </tbody>\n",
       "</table>\n",
       "</div>"
      ],
      "text/plain": [
       "        id department                   job               name\n",
       "0    19995    Editing                Editor  Stephen E. Rivkin\n",
       "125  19995    Editing  Digital Intermediate        Marvin Hall"
      ]
     },
     "execution_count": 62,
     "metadata": {},
     "output_type": "execute_result"
    }
   ],
   "source": [
    "with open(\"dataset/crews.p\", \"rb\") as f1:\n",
    "    crews = pickle.load(f1)\n",
    "\n",
    "crews[(crews[\"id\"] == 19995) & (crews[\"department\"] == \"Editing\")]"
   ]
  },
  {
   "cell_type": "code",
   "execution_count": 69,
   "metadata": {},
   "outputs": [
    {
     "data": {
      "text/html": [
       "<div>\n",
       "<style scoped>\n",
       "    .dataframe tbody tr th:only-of-type {\n",
       "        vertical-align: middle;\n",
       "    }\n",
       "\n",
       "    .dataframe tbody tr th {\n",
       "        vertical-align: top;\n",
       "    }\n",
       "\n",
       "    .dataframe thead th {\n",
       "        text-align: right;\n",
       "    }\n",
       "</style>\n",
       "<table border=\"1\" class=\"dataframe\">\n",
       "  <thead>\n",
       "    <tr style=\"text-align: right;\">\n",
       "      <th></th>\n",
       "      <th>id</th>\n",
       "      <th>department_dir</th>\n",
       "      <th>job_dir</th>\n",
       "      <th>name_dir</th>\n",
       "      <th>department_crew</th>\n",
       "      <th>job_crew</th>\n",
       "      <th>name_crew</th>\n",
       "    </tr>\n",
       "  </thead>\n",
       "  <tbody>\n",
       "    <tr>\n",
       "      <th>0</th>\n",
       "      <td>19995</td>\n",
       "      <td>Editing</td>\n",
       "      <td>Editor</td>\n",
       "      <td>Stephen E. Rivkin</td>\n",
       "      <td>Editing</td>\n",
       "      <td>Editor</td>\n",
       "      <td>Stephen E. Rivkin</td>\n",
       "    </tr>\n",
       "    <tr>\n",
       "      <th>42</th>\n",
       "      <td>19995</td>\n",
       "      <td>Editing</td>\n",
       "      <td>Editor</td>\n",
       "      <td>Stephen E. Rivkin</td>\n",
       "      <td>Editing</td>\n",
       "      <td>Digital Intermediate</td>\n",
       "      <td>Marvin Hall</td>\n",
       "    </tr>\n",
       "    <tr>\n",
       "      <th>2184</th>\n",
       "      <td>19995</td>\n",
       "      <td>Editing</td>\n",
       "      <td>Digital Intermediate</td>\n",
       "      <td>Marvin Hall</td>\n",
       "      <td>Editing</td>\n",
       "      <td>Editor</td>\n",
       "      <td>Stephen E. Rivkin</td>\n",
       "    </tr>\n",
       "    <tr>\n",
       "      <th>2226</th>\n",
       "      <td>19995</td>\n",
       "      <td>Editing</td>\n",
       "      <td>Digital Intermediate</td>\n",
       "      <td>Marvin Hall</td>\n",
       "      <td>Editing</td>\n",
       "      <td>Digital Intermediate</td>\n",
       "      <td>Marvin Hall</td>\n",
       "    </tr>\n",
       "  </tbody>\n",
       "</table>\n",
       "</div>"
      ],
      "text/plain": [
       "         id department_dir               job_dir           name_dir  \\\n",
       "0     19995        Editing                Editor  Stephen E. Rivkin   \n",
       "42    19995        Editing                Editor  Stephen E. Rivkin   \n",
       "2184  19995        Editing  Digital Intermediate        Marvin Hall   \n",
       "2226  19995        Editing  Digital Intermediate        Marvin Hall   \n",
       "\n",
       "     department_crew              job_crew          name_crew  \n",
       "0            Editing                Editor  Stephen E. Rivkin  \n",
       "42           Editing  Digital Intermediate        Marvin Hall  \n",
       "2184         Editing                Editor  Stephen E. Rivkin  \n",
       "2226         Editing  Digital Intermediate        Marvin Hall  "
      ]
     },
     "execution_count": 69,
     "metadata": {},
     "output_type": "execute_result"
    }
   ],
   "source": [
    "# Merge the crews table to itself\n",
    "crews_self_merged = crews.merge(crews, on=\"id\", how=\"inner\", suffixes=(\"_dir\", \"_crew\"))\n",
    "\n",
    "crews_self_merged[(crews_self_merged[\"id\"] == 19995) & (crews_self_merged[\"department_dir\"] == \"Editing\") & \n",
    "                  (crews_self_merged[\"department_crew\"] == \"Editing\")]\n"
   ]
  },
  {
   "cell_type": "markdown",
   "metadata": {},
   "source": [
    "* Create a Boolean index, named `boolean_filter`, that selects rows from the left table with the job of `'Director'` and avoids rows with the job of `'Director'` in the right table.\n"
   ]
  },
  {
   "cell_type": "code",
   "execution_count": 71,
   "metadata": {},
   "outputs": [
    {
     "data": {
      "text/html": [
       "<div>\n",
       "<style scoped>\n",
       "    .dataframe tbody tr th:only-of-type {\n",
       "        vertical-align: middle;\n",
       "    }\n",
       "\n",
       "    .dataframe tbody tr th {\n",
       "        vertical-align: top;\n",
       "    }\n",
       "\n",
       "    .dataframe thead th {\n",
       "        text-align: right;\n",
       "    }\n",
       "</style>\n",
       "<table border=\"1\" class=\"dataframe\">\n",
       "  <thead>\n",
       "    <tr style=\"text-align: right;\">\n",
       "      <th></th>\n",
       "      <th>id</th>\n",
       "      <th>department_dir</th>\n",
       "      <th>job_dir</th>\n",
       "      <th>name_dir</th>\n",
       "      <th>department_crew</th>\n",
       "      <th>job_crew</th>\n",
       "      <th>name_crew</th>\n",
       "    </tr>\n",
       "  </thead>\n",
       "  <tbody>\n",
       "    <tr>\n",
       "      <th>156</th>\n",
       "      <td>19995</td>\n",
       "      <td>Directing</td>\n",
       "      <td>Director</td>\n",
       "      <td>James Cameron</td>\n",
       "      <td>Editing</td>\n",
       "      <td>Editor</td>\n",
       "      <td>Stephen E. Rivkin</td>\n",
       "    </tr>\n",
       "    <tr>\n",
       "      <th>157</th>\n",
       "      <td>19995</td>\n",
       "      <td>Directing</td>\n",
       "      <td>Director</td>\n",
       "      <td>James Cameron</td>\n",
       "      <td>Sound</td>\n",
       "      <td>Sound Designer</td>\n",
       "      <td>Christopher Boyes</td>\n",
       "    </tr>\n",
       "    <tr>\n",
       "      <th>158</th>\n",
       "      <td>19995</td>\n",
       "      <td>Directing</td>\n",
       "      <td>Director</td>\n",
       "      <td>James Cameron</td>\n",
       "      <td>Production</td>\n",
       "      <td>Casting</td>\n",
       "      <td>Mali Finn</td>\n",
       "    </tr>\n",
       "    <tr>\n",
       "      <th>160</th>\n",
       "      <td>19995</td>\n",
       "      <td>Directing</td>\n",
       "      <td>Director</td>\n",
       "      <td>James Cameron</td>\n",
       "      <td>Writing</td>\n",
       "      <td>Writer</td>\n",
       "      <td>James Cameron</td>\n",
       "    </tr>\n",
       "    <tr>\n",
       "      <th>161</th>\n",
       "      <td>19995</td>\n",
       "      <td>Directing</td>\n",
       "      <td>Director</td>\n",
       "      <td>James Cameron</td>\n",
       "      <td>Art</td>\n",
       "      <td>Set Designer</td>\n",
       "      <td>Richard F. Mays</td>\n",
       "    </tr>\n",
       "    <tr>\n",
       "      <th>...</th>\n",
       "      <td>...</td>\n",
       "      <td>...</td>\n",
       "      <td>...</td>\n",
       "      <td>...</td>\n",
       "      <td>...</td>\n",
       "      <td>...</td>\n",
       "      <td>...</td>\n",
       "    </tr>\n",
       "    <tr>\n",
       "      <th>834166</th>\n",
       "      <td>72766</td>\n",
       "      <td>Directing</td>\n",
       "      <td>Director</td>\n",
       "      <td>Edward Burns</td>\n",
       "      <td>Editing</td>\n",
       "      <td>Editor</td>\n",
       "      <td>Janet Gaynor</td>\n",
       "    </tr>\n",
       "    <tr>\n",
       "      <th>834174</th>\n",
       "      <td>231617</td>\n",
       "      <td>Directing</td>\n",
       "      <td>Director</td>\n",
       "      <td>Scott Smith</td>\n",
       "      <td>Production</td>\n",
       "      <td>Executive Producer</td>\n",
       "      <td>Scott Smith</td>\n",
       "    </tr>\n",
       "    <tr>\n",
       "      <th>834182</th>\n",
       "      <td>25975</td>\n",
       "      <td>Directing</td>\n",
       "      <td>Director</td>\n",
       "      <td>Brian Herzlinger</td>\n",
       "      <td>Production</td>\n",
       "      <td>Executive Producer</td>\n",
       "      <td>Clark Peterson</td>\n",
       "    </tr>\n",
       "    <tr>\n",
       "      <th>834186</th>\n",
       "      <td>25975</td>\n",
       "      <td>Directing</td>\n",
       "      <td>Director</td>\n",
       "      <td>Jon Gunn</td>\n",
       "      <td>Production</td>\n",
       "      <td>Executive Producer</td>\n",
       "      <td>Clark Peterson</td>\n",
       "    </tr>\n",
       "    <tr>\n",
       "      <th>834190</th>\n",
       "      <td>25975</td>\n",
       "      <td>Directing</td>\n",
       "      <td>Director</td>\n",
       "      <td>Brett Winn</td>\n",
       "      <td>Production</td>\n",
       "      <td>Executive Producer</td>\n",
       "      <td>Clark Peterson</td>\n",
       "    </tr>\n",
       "  </tbody>\n",
       "</table>\n",
       "<p>40845 rows × 7 columns</p>\n",
       "</div>"
      ],
      "text/plain": [
       "            id department_dir   job_dir          name_dir department_crew  \\\n",
       "156      19995      Directing  Director     James Cameron         Editing   \n",
       "157      19995      Directing  Director     James Cameron           Sound   \n",
       "158      19995      Directing  Director     James Cameron      Production   \n",
       "160      19995      Directing  Director     James Cameron         Writing   \n",
       "161      19995      Directing  Director     James Cameron             Art   \n",
       "...        ...            ...       ...               ...             ...   \n",
       "834166   72766      Directing  Director      Edward Burns         Editing   \n",
       "834174  231617      Directing  Director       Scott Smith      Production   \n",
       "834182   25975      Directing  Director  Brian Herzlinger      Production   \n",
       "834186   25975      Directing  Director          Jon Gunn      Production   \n",
       "834190   25975      Directing  Director        Brett Winn      Production   \n",
       "\n",
       "                  job_crew          name_crew  \n",
       "156                 Editor  Stephen E. Rivkin  \n",
       "157         Sound Designer  Christopher Boyes  \n",
       "158                Casting          Mali Finn  \n",
       "160                 Writer      James Cameron  \n",
       "161           Set Designer    Richard F. Mays  \n",
       "...                    ...                ...  \n",
       "834166              Editor       Janet Gaynor  \n",
       "834174  Executive Producer        Scott Smith  \n",
       "834182  Executive Producer     Clark Peterson  \n",
       "834186  Executive Producer     Clark Peterson  \n",
       "834190  Executive Producer     Clark Peterson  \n",
       "\n",
       "[40845 rows x 7 columns]"
      ]
     },
     "execution_count": 71,
     "metadata": {},
     "output_type": "execute_result"
    }
   ],
   "source": [
    "# Merge the crews table to itself\n",
    "crews_self_merged = crews.merge(crews, on='id', how='inner',\n",
    "                                suffixes=('_dir','_crew'))\n",
    "\n",
    "# Create a Boolean index to select the appropriate\n",
    "boolean_filter = ((crews_self_merged['job_dir'] == \"Director\") & \n",
    "     (crews_self_merged['job_crew'] != \"Director\"))\n",
    "direct_crews = crews_self_merged[boolean_filter]\n",
    "direct_crews"
   ]
  },
  {
   "cell_type": "markdown",
   "metadata": {},
   "source": [
    "* Use the `.head()` method to print the first few rows of `direct_crews`."
   ]
  },
  {
   "cell_type": "code",
   "execution_count": 72,
   "metadata": {},
   "outputs": [
    {
     "name": "stdout",
     "output_type": "stream",
     "text": [
      "        id department_dir   job_dir       name_dir department_crew  \\\n",
      "156  19995      Directing  Director  James Cameron         Editing   \n",
      "157  19995      Directing  Director  James Cameron           Sound   \n",
      "158  19995      Directing  Director  James Cameron      Production   \n",
      "160  19995      Directing  Director  James Cameron         Writing   \n",
      "161  19995      Directing  Director  James Cameron             Art   \n",
      "\n",
      "           job_crew          name_crew  \n",
      "156          Editor  Stephen E. Rivkin  \n",
      "157  Sound Designer  Christopher Boyes  \n",
      "158         Casting          Mali Finn  \n",
      "160          Writer      James Cameron  \n",
      "161    Set Designer    Richard F. Mays  \n"
     ]
    }
   ],
   "source": [
    "print(direct_crews.head())\n"
   ]
  },
  {
   "cell_type": "markdown",
   "metadata": {},
   "source": [
    "### 07-Index merge for movie ratings\n",
    "\n",
    "* Merge `movies` and `ratings` on the index and save to a variable called `movies_ratings`, ensuring that all of the rows from the `movies` table are returned.\n",
    "\n"
   ]
  },
  {
   "cell_type": "code",
   "execution_count": 73,
   "metadata": {},
   "outputs": [],
   "source": [
    "with open(\"dataset/movies.p\", \"rb\") as f1, open(\"dataset/ratings.p\", \"rb\") as f2:\n",
    "    movies = pickle.load(f1)\n",
    "    ratings = pickle.load(f2)\n"
   ]
  },
  {
   "cell_type": "code",
   "execution_count": 74,
   "metadata": {},
   "outputs": [
    {
     "name": "stdout",
     "output_type": "stream",
     "text": [
      "      id                 title  popularity release_date  vote_average  \\\n",
      "0    257          Oliver Twist   20.415572   2005-09-23           6.7   \n",
      "1  14290  Better Luck Tomorrow    3.877036   2002-01-12           6.5   \n",
      "2  38365             Grown Ups   38.864027   2010-06-24           6.0   \n",
      "3   9672              Infamous    3.680896   2006-11-16           6.4   \n",
      "4  12819       Alpha and Omega   12.300789   2010-09-17           5.3   \n",
      "\n",
      "   vote_count  \n",
      "0       274.0  \n",
      "1        27.0  \n",
      "2      1705.0  \n",
      "3        60.0  \n",
      "4       124.0  \n"
     ]
    }
   ],
   "source": [
    "# Merge to the movies table the ratings table on the index\n",
    "movies_ratings = movies.merge(ratings, on=\"id\")\n",
    "\n",
    "# Print the first few rows of movies_ratings\n",
    "print(movies_ratings.head())"
   ]
  },
  {
   "cell_type": "code",
   "execution_count": 75,
   "metadata": {},
   "outputs": [
    {
     "data": {
      "text/plain": [
       "(4803, 6)"
      ]
     },
     "execution_count": 75,
     "metadata": {},
     "output_type": "execute_result"
    }
   ],
   "source": [
    "movies_ratings.shape"
   ]
  },
  {
   "cell_type": "markdown",
   "metadata": {},
   "source": [
    "### 08-Do sequels earn more?"
   ]
  },
  {
   "cell_type": "markdown",
   "metadata": {},
   "source": [
    "* With the `sequels` table on the left, merge to it the `financials` table on index named `id`, ensuring that all the rows from the `sequels` are returned and some rows from the other table may not be returned, Save the results to `sequels_fin`."
   ]
  },
  {
   "cell_type": "code",
   "execution_count": 96,
   "metadata": {},
   "outputs": [],
   "source": [
    "with open(\"dataset/sequels.p\", \"rb\") as f1, open(\"dataset/financials.p\", \"rb\") as f2: \n",
    "    sequels = pickle.load(f1)\n",
    "    financials = pickle.load(f2)"
   ]
  },
  {
   "cell_type": "code",
   "execution_count": 101,
   "metadata": {},
   "outputs": [],
   "source": [
    "# Merge sequels and financials on index id\n",
    "sequels_fin = sequels.merge(financials, on='id', how='left').set_index(\"id\")"
   ]
  },
  {
   "cell_type": "markdown",
   "metadata": {},
   "source": [
    "* Merge the `sequels_fin` table to itself with an inner join, where the left and right tables merge on `sequel` and `id` respectively with suffixes equal to `('_org','_seq')`, saving to `orig_seq`.\n"
   ]
  },
  {
   "cell_type": "code",
   "execution_count": 103,
   "metadata": {},
   "outputs": [
    {
     "data": {
      "text/html": [
       "<div>\n",
       "<style scoped>\n",
       "    .dataframe tbody tr th:only-of-type {\n",
       "        vertical-align: middle;\n",
       "    }\n",
       "\n",
       "    .dataframe tbody tr th {\n",
       "        vertical-align: top;\n",
       "    }\n",
       "\n",
       "    .dataframe thead th {\n",
       "        text-align: right;\n",
       "    }\n",
       "</style>\n",
       "<table border=\"1\" class=\"dataframe\">\n",
       "  <thead>\n",
       "    <tr style=\"text-align: right;\">\n",
       "      <th></th>\n",
       "      <th>sequel</th>\n",
       "      <th>title_org</th>\n",
       "      <th>sequel_org</th>\n",
       "      <th>budget_org</th>\n",
       "      <th>revenue_org</th>\n",
       "      <th>title_seq</th>\n",
       "      <th>sequel_seq</th>\n",
       "      <th>budget_seq</th>\n",
       "      <th>revenue_seq</th>\n",
       "      <th>diff</th>\n",
       "    </tr>\n",
       "    <tr>\n",
       "      <th>id</th>\n",
       "      <th></th>\n",
       "      <th></th>\n",
       "      <th></th>\n",
       "      <th></th>\n",
       "      <th></th>\n",
       "      <th></th>\n",
       "      <th></th>\n",
       "      <th></th>\n",
       "      <th></th>\n",
       "      <th></th>\n",
       "    </tr>\n",
       "  </thead>\n",
       "  <tbody>\n",
       "    <tr>\n",
       "      <th>862</th>\n",
       "      <td>863</td>\n",
       "      <td>Toy Story</td>\n",
       "      <td>863</td>\n",
       "      <td>30000000.0</td>\n",
       "      <td>373554033.0</td>\n",
       "      <td>Toy Story 2</td>\n",
       "      <td>10193</td>\n",
       "      <td>90000000.0</td>\n",
       "      <td>4.973669e+08</td>\n",
       "      <td>123812836.0</td>\n",
       "    </tr>\n",
       "    <tr>\n",
       "      <th>863</th>\n",
       "      <td>10193</td>\n",
       "      <td>Toy Story 2</td>\n",
       "      <td>10193</td>\n",
       "      <td>90000000.0</td>\n",
       "      <td>497366869.0</td>\n",
       "      <td>Toy Story 3</td>\n",
       "      <td>&lt;NA&gt;</td>\n",
       "      <td>200000000.0</td>\n",
       "      <td>1.066970e+09</td>\n",
       "      <td>569602834.0</td>\n",
       "    </tr>\n",
       "    <tr>\n",
       "      <th>675</th>\n",
       "      <td>767</td>\n",
       "      <td>Harry Potter and the Order of the Phoenix</td>\n",
       "      <td>767</td>\n",
       "      <td>150000000.0</td>\n",
       "      <td>938212738.0</td>\n",
       "      <td>Harry Potter and the Half-Blood Prince</td>\n",
       "      <td>&lt;NA&gt;</td>\n",
       "      <td>250000000.0</td>\n",
       "      <td>9.339592e+08</td>\n",
       "      <td>-4253541.0</td>\n",
       "    </tr>\n",
       "    <tr>\n",
       "      <th>121</th>\n",
       "      <td>122</td>\n",
       "      <td>The Lord of the Rings: The Two Towers</td>\n",
       "      <td>122</td>\n",
       "      <td>79000000.0</td>\n",
       "      <td>926287400.0</td>\n",
       "      <td>The Lord of the Rings: The Return of the King</td>\n",
       "      <td>&lt;NA&gt;</td>\n",
       "      <td>94000000.0</td>\n",
       "      <td>1.118889e+09</td>\n",
       "      <td>192601579.0</td>\n",
       "    </tr>\n",
       "    <tr>\n",
       "      <th>120</th>\n",
       "      <td>121</td>\n",
       "      <td>The Lord of the Rings: The Fellowship of the Ring</td>\n",
       "      <td>121</td>\n",
       "      <td>93000000.0</td>\n",
       "      <td>871368364.0</td>\n",
       "      <td>The Lord of the Rings: The Two Towers</td>\n",
       "      <td>122</td>\n",
       "      <td>79000000.0</td>\n",
       "      <td>9.262874e+08</td>\n",
       "      <td>54919036.0</td>\n",
       "    </tr>\n",
       "    <tr>\n",
       "      <th>...</th>\n",
       "      <td>...</td>\n",
       "      <td>...</td>\n",
       "      <td>...</td>\n",
       "      <td>...</td>\n",
       "      <td>...</td>\n",
       "      <td>...</td>\n",
       "      <td>...</td>\n",
       "      <td>...</td>\n",
       "      <td>...</td>\n",
       "      <td>...</td>\n",
       "    </tr>\n",
       "    <tr>\n",
       "      <th>76</th>\n",
       "      <td>80</td>\n",
       "      <td>Before Sunrise</td>\n",
       "      <td>80</td>\n",
       "      <td>2500000.0</td>\n",
       "      <td>5535405.0</td>\n",
       "      <td>Before Sunset</td>\n",
       "      <td>132344</td>\n",
       "      <td>2700000.0</td>\n",
       "      <td>1.599262e+07</td>\n",
       "      <td>10457210.0</td>\n",
       "    </tr>\n",
       "    <tr>\n",
       "      <th>2292</th>\n",
       "      <td>2295</td>\n",
       "      <td>Clerks</td>\n",
       "      <td>2295</td>\n",
       "      <td>27000.0</td>\n",
       "      <td>3151130.0</td>\n",
       "      <td>Clerks II</td>\n",
       "      <td>&lt;NA&gt;</td>\n",
       "      <td>5000000.0</td>\n",
       "      <td>2.688838e+07</td>\n",
       "      <td>23737246.0</td>\n",
       "    </tr>\n",
       "    <tr>\n",
       "      <th>9367</th>\n",
       "      <td>8068</td>\n",
       "      <td>El Mariachi</td>\n",
       "      <td>8068</td>\n",
       "      <td>220000.0</td>\n",
       "      <td>2040920.0</td>\n",
       "      <td>Desperado</td>\n",
       "      <td>1428</td>\n",
       "      <td>7000000.0</td>\n",
       "      <td>2.540544e+07</td>\n",
       "      <td>23364525.0</td>\n",
       "    </tr>\n",
       "    <tr>\n",
       "      <th>8374</th>\n",
       "      <td>22821</td>\n",
       "      <td>The Boondock Saints</td>\n",
       "      <td>22821</td>\n",
       "      <td>6000000.0</td>\n",
       "      <td>30471.0</td>\n",
       "      <td>The Boondock Saints II: All Saints Day</td>\n",
       "      <td>&lt;NA&gt;</td>\n",
       "      <td>8000000.0</td>\n",
       "      <td>1.062932e+07</td>\n",
       "      <td>10598850.0</td>\n",
       "    </tr>\n",
       "    <tr>\n",
       "      <th>16186</th>\n",
       "      <td>16781</td>\n",
       "      <td>Diary of a Mad Black Woman</td>\n",
       "      <td>16781</td>\n",
       "      <td>NaN</td>\n",
       "      <td>NaN</td>\n",
       "      <td>Madea's Family Reunion</td>\n",
       "      <td>15670</td>\n",
       "      <td>6000000.0</td>\n",
       "      <td>5.723152e+07</td>\n",
       "      <td>NaN</td>\n",
       "    </tr>\n",
       "  </tbody>\n",
       "</table>\n",
       "<p>90 rows × 10 columns</p>\n",
       "</div>"
      ],
      "text/plain": [
       "      sequel                                          title_org sequel_org  \\\n",
       "id                                                                           \n",
       "862      863                                          Toy Story        863   \n",
       "863    10193                                        Toy Story 2      10193   \n",
       "675      767          Harry Potter and the Order of the Phoenix        767   \n",
       "121      122              The Lord of the Rings: The Two Towers        122   \n",
       "120      121  The Lord of the Rings: The Fellowship of the Ring        121   \n",
       "...      ...                                                ...        ...   \n",
       "76        80                                     Before Sunrise         80   \n",
       "2292    2295                                             Clerks       2295   \n",
       "9367    8068                                        El Mariachi       8068   \n",
       "8374   22821                                The Boondock Saints      22821   \n",
       "16186  16781                         Diary of a Mad Black Woman      16781   \n",
       "\n",
       "        budget_org  revenue_org  \\\n",
       "id                                \n",
       "862     30000000.0  373554033.0   \n",
       "863     90000000.0  497366869.0   \n",
       "675    150000000.0  938212738.0   \n",
       "121     79000000.0  926287400.0   \n",
       "120     93000000.0  871368364.0   \n",
       "...            ...          ...   \n",
       "76       2500000.0    5535405.0   \n",
       "2292       27000.0    3151130.0   \n",
       "9367      220000.0    2040920.0   \n",
       "8374     6000000.0      30471.0   \n",
       "16186          NaN          NaN   \n",
       "\n",
       "                                           title_seq sequel_seq   budget_seq  \\\n",
       "id                                                                             \n",
       "862                                      Toy Story 2      10193   90000000.0   \n",
       "863                                      Toy Story 3       <NA>  200000000.0   \n",
       "675           Harry Potter and the Half-Blood Prince       <NA>  250000000.0   \n",
       "121    The Lord of the Rings: The Return of the King       <NA>   94000000.0   \n",
       "120            The Lord of the Rings: The Two Towers        122   79000000.0   \n",
       "...                                              ...        ...          ...   \n",
       "76                                     Before Sunset     132344    2700000.0   \n",
       "2292                                       Clerks II       <NA>    5000000.0   \n",
       "9367                                       Desperado       1428    7000000.0   \n",
       "8374          The Boondock Saints II: All Saints Day       <NA>    8000000.0   \n",
       "16186                         Madea's Family Reunion      15670    6000000.0   \n",
       "\n",
       "        revenue_seq         diff  \n",
       "id                                \n",
       "862    4.973669e+08  123812836.0  \n",
       "863    1.066970e+09  569602834.0  \n",
       "675    9.339592e+08   -4253541.0  \n",
       "121    1.118889e+09  192601579.0  \n",
       "120    9.262874e+08   54919036.0  \n",
       "...             ...          ...  \n",
       "76     1.599262e+07   10457210.0  \n",
       "2292   2.688838e+07   23737246.0  \n",
       "9367   2.540544e+07   23364525.0  \n",
       "8374   1.062932e+07   10598850.0  \n",
       "16186  5.723152e+07          NaN  \n",
       "\n",
       "[90 rows x 10 columns]"
      ]
     },
     "execution_count": 103,
     "metadata": {},
     "output_type": "execute_result"
    }
   ],
   "source": [
    "\n",
    "# Self merge with suffixes as inner join with left on sequel and right on id\n",
    "orig_seq = sequels_fin.merge(sequels_fin, how=\"inner\", left_on=\"sequel\", \n",
    "                             right_on=\"id\", right_index=True,\n",
    "                             suffixes=(\"_org\",\"_seq\"))\n",
    "\n",
    "# Add calculation to subtract revenue_org from revenue_seq \n",
    "orig_seq['diff'] = orig_seq['revenue_seq'] - orig_seq['revenue_org']\n",
    "orig_seq"
   ]
  },
  {
   "cell_type": "markdown",
   "metadata": {},
   "source": [
    "* Select the `title_org`, title_seq, and `diff` columns of `orig_seq` and save this as `titles_diff`.\n",
    "\n"
   ]
  },
  {
   "cell_type": "code",
   "execution_count": 105,
   "metadata": {},
   "outputs": [
    {
     "data": {
      "text/html": [
       "<div>\n",
       "<style scoped>\n",
       "    .dataframe tbody tr th:only-of-type {\n",
       "        vertical-align: middle;\n",
       "    }\n",
       "\n",
       "    .dataframe tbody tr th {\n",
       "        vertical-align: top;\n",
       "    }\n",
       "\n",
       "    .dataframe thead th {\n",
       "        text-align: right;\n",
       "    }\n",
       "</style>\n",
       "<table border=\"1\" class=\"dataframe\">\n",
       "  <thead>\n",
       "    <tr style=\"text-align: right;\">\n",
       "      <th></th>\n",
       "      <th>title_org</th>\n",
       "      <th>title_seq</th>\n",
       "      <th>diff</th>\n",
       "    </tr>\n",
       "    <tr>\n",
       "      <th>id</th>\n",
       "      <th></th>\n",
       "      <th></th>\n",
       "      <th></th>\n",
       "    </tr>\n",
       "  </thead>\n",
       "  <tbody>\n",
       "    <tr>\n",
       "      <th>862</th>\n",
       "      <td>Toy Story</td>\n",
       "      <td>Toy Story 2</td>\n",
       "      <td>123812836.0</td>\n",
       "    </tr>\n",
       "    <tr>\n",
       "      <th>863</th>\n",
       "      <td>Toy Story 2</td>\n",
       "      <td>Toy Story 3</td>\n",
       "      <td>569602834.0</td>\n",
       "    </tr>\n",
       "    <tr>\n",
       "      <th>675</th>\n",
       "      <td>Harry Potter and the Order of the Phoenix</td>\n",
       "      <td>Harry Potter and the Half-Blood Prince</td>\n",
       "      <td>-4253541.0</td>\n",
       "    </tr>\n",
       "    <tr>\n",
       "      <th>121</th>\n",
       "      <td>The Lord of the Rings: The Two Towers</td>\n",
       "      <td>The Lord of the Rings: The Return of the King</td>\n",
       "      <td>192601579.0</td>\n",
       "    </tr>\n",
       "    <tr>\n",
       "      <th>120</th>\n",
       "      <td>The Lord of the Rings: The Fellowship of the Ring</td>\n",
       "      <td>The Lord of the Rings: The Two Towers</td>\n",
       "      <td>54919036.0</td>\n",
       "    </tr>\n",
       "    <tr>\n",
       "      <th>...</th>\n",
       "      <td>...</td>\n",
       "      <td>...</td>\n",
       "      <td>...</td>\n",
       "    </tr>\n",
       "    <tr>\n",
       "      <th>76</th>\n",
       "      <td>Before Sunrise</td>\n",
       "      <td>Before Sunset</td>\n",
       "      <td>10457210.0</td>\n",
       "    </tr>\n",
       "    <tr>\n",
       "      <th>2292</th>\n",
       "      <td>Clerks</td>\n",
       "      <td>Clerks II</td>\n",
       "      <td>23737246.0</td>\n",
       "    </tr>\n",
       "    <tr>\n",
       "      <th>9367</th>\n",
       "      <td>El Mariachi</td>\n",
       "      <td>Desperado</td>\n",
       "      <td>23364525.0</td>\n",
       "    </tr>\n",
       "    <tr>\n",
       "      <th>8374</th>\n",
       "      <td>The Boondock Saints</td>\n",
       "      <td>The Boondock Saints II: All Saints Day</td>\n",
       "      <td>10598850.0</td>\n",
       "    </tr>\n",
       "    <tr>\n",
       "      <th>16186</th>\n",
       "      <td>Diary of a Mad Black Woman</td>\n",
       "      <td>Madea's Family Reunion</td>\n",
       "      <td>NaN</td>\n",
       "    </tr>\n",
       "  </tbody>\n",
       "</table>\n",
       "<p>90 rows × 3 columns</p>\n",
       "</div>"
      ],
      "text/plain": [
       "                                               title_org  \\\n",
       "id                                                         \n",
       "862                                            Toy Story   \n",
       "863                                          Toy Story 2   \n",
       "675            Harry Potter and the Order of the Phoenix   \n",
       "121                The Lord of the Rings: The Two Towers   \n",
       "120    The Lord of the Rings: The Fellowship of the Ring   \n",
       "...                                                  ...   \n",
       "76                                        Before Sunrise   \n",
       "2292                                              Clerks   \n",
       "9367                                         El Mariachi   \n",
       "8374                                 The Boondock Saints   \n",
       "16186                         Diary of a Mad Black Woman   \n",
       "\n",
       "                                           title_seq         diff  \n",
       "id                                                                 \n",
       "862                                      Toy Story 2  123812836.0  \n",
       "863                                      Toy Story 3  569602834.0  \n",
       "675           Harry Potter and the Half-Blood Prince   -4253541.0  \n",
       "121    The Lord of the Rings: The Return of the King  192601579.0  \n",
       "120            The Lord of the Rings: The Two Towers   54919036.0  \n",
       "...                                              ...          ...  \n",
       "76                                     Before Sunset   10457210.0  \n",
       "2292                                       Clerks II   23737246.0  \n",
       "9367                                       Desperado   23364525.0  \n",
       "8374          The Boondock Saints II: All Saints Day   10598850.0  \n",
       "16186                         Madea's Family Reunion          NaN  \n",
       "\n",
       "[90 rows x 3 columns]"
      ]
     },
     "execution_count": 105,
     "metadata": {},
     "output_type": "execute_result"
    }
   ],
   "source": [
    "# Select the title_org, title_seq, and diff \n",
    "titles_diff = orig_seq[['title_org','title_seq','diff']]\n",
    "titles_diff"
   ]
  },
  {
   "cell_type": "markdown",
   "metadata": {},
   "source": [
    "* Sort by `titles_diff` by `diff` in descending order and print the first few rows."
   ]
  },
  {
   "cell_type": "code",
   "execution_count": 106,
   "metadata": {},
   "outputs": [
    {
     "name": "stdout",
     "output_type": "stream",
     "text": [
      "               title_org        title_seq          diff\n",
      "id                                                     \n",
      "331    Jurassic Park III   Jurassic World  1.144748e+09\n",
      "272        Batman Begins  The Dark Knight  6.303398e+08\n",
      "10138         Iron Man 2       Iron Man 3  5.915067e+08\n",
      "863          Toy Story 2      Toy Story 3  5.696028e+08\n",
      "10764  Quantum of Solace          Skyfall  5.224703e+08\n"
     ]
    }
   ],
   "source": [
    "# Print the first rows of the sorted titles_diff\n",
    "print(titles_diff.sort_values(\"diff\", ascending=False).head())"
   ]
  },
  {
   "cell_type": "markdown",
   "metadata": {},
   "source": [
    "==================================\n",
    "### `The End`\n",
    "=================================="
   ]
  }
 ],
 "metadata": {
  "interpreter": {
   "hash": "375c74fd8c11b85bdfdf0d0a51867cc40572443e91947231b688f7b7116ba890"
  },
  "kernelspec": {
   "display_name": "Python 3.6.8 64-bit",
   "language": "python",
   "name": "python3"
  },
  "language_info": {
   "codemirror_mode": {
    "name": "ipython",
    "version": 3
   },
   "file_extension": ".py",
   "mimetype": "text/x-python",
   "name": "python",
   "nbconvert_exporter": "python",
   "pygments_lexer": "ipython3",
   "version": "3.6.8"
  },
  "orig_nbformat": 4
 },
 "nbformat": 4,
 "nbformat_minor": 2
}
